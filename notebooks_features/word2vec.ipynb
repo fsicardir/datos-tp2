{
 "cells": [
  {
   "cell_type": "code",
   "execution_count": 1,
   "metadata": {},
   "outputs": [],
   "source": [
    "#Utilizacion de Word2Vec "
   ]
  },
  {
   "cell_type": "code",
   "execution_count": 3,
   "metadata": {},
   "outputs": [
    {
     "name": "stderr",
     "output_type": "stream",
     "text": [
      "[nltk_data] Downloading package stopwords to\n",
      "[nltk_data]     C:\\Users\\brian\\AppData\\Roaming\\nltk_data...\n",
      "[nltk_data]   Package stopwords is already up-to-date!\n",
      "[nltk_data] Downloading package vader_lexicon to\n",
      "[nltk_data]     C:\\Users\\brian\\AppData\\Roaming\\nltk_data...\n",
      "[nltk_data]   Package vader_lexicon is already up-to-date!\n"
     ]
    }
   ],
   "source": [
    "import bs4 as bs\n",
    "import urllib.request\n",
    "import re\n",
    "import nltk\n",
    "import pandas as pd\n",
    "pd.set_option('max_colwidth', -1)\n",
    "import string\n",
    "import nltk\n",
    "nltk.download('stopwords')\n",
    "from nltk import word_tokenize\n",
    "from nltk.corpus import stopwords\n",
    "nltk.download('vader_lexicon')\n",
    "from textblob import TextBlob\n",
    "from nltk.sentiment.vader import SentimentIntensityAnalyzer\n",
    "analyzer = SentimentIntensityAnalyzer()\n"
   ]
  },
  {
   "cell_type": "code",
   "execution_count": 4,
   "metadata": {},
   "outputs": [],
   "source": [
    "df = pd.read_csv('../dataset/train.csv')"
   ]
  },
  {
   "cell_type": "code",
   "execution_count": 23,
   "metadata": {},
   "outputs": [],
   "source": [
    "#Al igual que en otros notebooks, preprocesamiento previo\n",
    "# Quitamos las urls\n",
    "df['text'] = df['text'].str.replace(r'http:\\/\\/.*', '', regex=True).replace(r'https:\\/\\/.*', '', regex=True)\n",
    "\n",
    "# Quitamos user mentions, signos de puntuación, hashtags y stopwords.\n",
    "def clean_text(text):\n",
    "    words = text.lower().split(' ')\n",
    "    text = ' '.join([word for word in words if not word.startswith('@') and word not in stopwords.words('english')])\n",
    "    text = text.translate(str.maketrans('', '', string.punctuation))\n",
    "    return text\n",
    "\n",
    "df['text'] = df['text'].apply(clean_text)\n",
    "\n",
    "df['word_count'] = df['text'].apply(lambda x: len(x.split(' ')))"
   ]
  },
  {
   "cell_type": "code",
   "execution_count": 24,
   "metadata": {},
   "outputs": [
    {
     "data": {
      "text/html": [
       "<div>\n",
       "<style scoped>\n",
       "    .dataframe tbody tr th:only-of-type {\n",
       "        vertical-align: middle;\n",
       "    }\n",
       "\n",
       "    .dataframe tbody tr th {\n",
       "        vertical-align: top;\n",
       "    }\n",
       "\n",
       "    .dataframe thead th {\n",
       "        text-align: right;\n",
       "    }\n",
       "</style>\n",
       "<table border=\"1\" class=\"dataframe\">\n",
       "  <thead>\n",
       "    <tr style=\"text-align: right;\">\n",
       "      <th></th>\n",
       "      <th>id</th>\n",
       "      <th>keyword</th>\n",
       "      <th>location</th>\n",
       "      <th>text</th>\n",
       "      <th>target</th>\n",
       "      <th>word_count</th>\n",
       "    </tr>\n",
       "  </thead>\n",
       "  <tbody>\n",
       "    <tr>\n",
       "      <th>0</th>\n",
       "      <td>1</td>\n",
       "      <td>NaN</td>\n",
       "      <td>NaN</td>\n",
       "      <td>deeds reason earthquake may allah forgive us</td>\n",
       "      <td>1</td>\n",
       "      <td>7</td>\n",
       "    </tr>\n",
       "    <tr>\n",
       "      <th>1</th>\n",
       "      <td>4</td>\n",
       "      <td>NaN</td>\n",
       "      <td>NaN</td>\n",
       "      <td>forest fire near la ronge sask canada</td>\n",
       "      <td>1</td>\n",
       "      <td>7</td>\n",
       "    </tr>\n",
       "    <tr>\n",
       "      <th>2</th>\n",
       "      <td>5</td>\n",
       "      <td>NaN</td>\n",
       "      <td>NaN</td>\n",
       "      <td>residents asked shelter place notified officers evacuation shelter place orders expected</td>\n",
       "      <td>1</td>\n",
       "      <td>11</td>\n",
       "    </tr>\n",
       "    <tr>\n",
       "      <th>3</th>\n",
       "      <td>6</td>\n",
       "      <td>NaN</td>\n",
       "      <td>NaN</td>\n",
       "      <td>13000 people receive wildfires evacuation orders california</td>\n",
       "      <td>1</td>\n",
       "      <td>8</td>\n",
       "    </tr>\n",
       "    <tr>\n",
       "      <th>4</th>\n",
       "      <td>7</td>\n",
       "      <td>NaN</td>\n",
       "      <td>NaN</td>\n",
       "      <td>got sent photo ruby alaska smoke wildfires pours school</td>\n",
       "      <td>1</td>\n",
       "      <td>10</td>\n",
       "    </tr>\n",
       "  </tbody>\n",
       "</table>\n",
       "</div>"
      ],
      "text/plain": [
       "   id keyword location  \\\n",
       "0  1   NaN     NaN       \n",
       "1  4   NaN     NaN       \n",
       "2  5   NaN     NaN       \n",
       "3  6   NaN     NaN       \n",
       "4  7   NaN     NaN       \n",
       "\n",
       "                                                                                       text  \\\n",
       "0  deeds reason earthquake may allah forgive us                                               \n",
       "1  forest fire near la ronge sask canada                                                      \n",
       "2  residents asked shelter place notified officers evacuation shelter place orders expected   \n",
       "3  13000 people receive wildfires evacuation orders california                                \n",
       "4  got sent photo ruby alaska smoke wildfires pours school                                    \n",
       "\n",
       "   target  word_count  \n",
       "0  1       7           \n",
       "1  1       7           \n",
       "2  1       11          \n",
       "3  1       8           \n",
       "4  1       10          "
      ]
     },
     "execution_count": 24,
     "metadata": {},
     "output_type": "execute_result"
    }
   ],
   "source": [
    "df.head()"
   ]
  },
  {
   "cell_type": "code",
   "execution_count": 49,
   "metadata": {},
   "outputs": [
    {
     "name": "stdout",
     "output_type": "stream",
     "text": [
      "{'d': <gensim.models.keyedvectors.Vocab object at 0x000001CDB8A171D0>, 'e': <gensim.models.keyedvectors.Vocab object at 0x000001CDBC08ACF8>, 's': <gensim.models.keyedvectors.Vocab object at 0x000001CDBC08AD68>, 'r': <gensim.models.keyedvectors.Vocab object at 0x000001CDBC08ADD8>, 'a': <gensim.models.keyedvectors.Vocab object at 0x000001CDBC08AE10>, 'o': <gensim.models.keyedvectors.Vocab object at 0x000001CDBC08AE48>, 'n': <gensim.models.keyedvectors.Vocab object at 0x000001CDBC08AE80>, 't': <gensim.models.keyedvectors.Vocab object at 0x000001CDBC08AEB8>, 'h': <gensim.models.keyedvectors.Vocab object at 0x000001CDBC08AEF0>, 'q': <gensim.models.keyedvectors.Vocab object at 0x000001CDBC08AF28>, 'u': <gensim.models.keyedvectors.Vocab object at 0x000001CDBC08AF60>, 'k': <gensim.models.keyedvectors.Vocab object at 0x000001CDBC08AF98>, 'm': <gensim.models.keyedvectors.Vocab object at 0x000001CDBC08AFD0>, 'y': <gensim.models.keyedvectors.Vocab object at 0x000001CDBC094048>, 'l': <gensim.models.keyedvectors.Vocab object at 0x000001CDBC094080>, 'f': <gensim.models.keyedvectors.Vocab object at 0x000001CDBC0940B8>, 'g': <gensim.models.keyedvectors.Vocab object at 0x000001CDBC0940F0>, 'i': <gensim.models.keyedvectors.Vocab object at 0x000001CDBC094128>, 'v': <gensim.models.keyedvectors.Vocab object at 0x000001CDBC094160>, 'c': <gensim.models.keyedvectors.Vocab object at 0x000001CDBC094198>, 'p': <gensim.models.keyedvectors.Vocab object at 0x000001CDBC0941D0>, 'x': <gensim.models.keyedvectors.Vocab object at 0x000001CDBC094208>, '1': <gensim.models.keyedvectors.Vocab object at 0x000001CDBC094240>, '3': <gensim.models.keyedvectors.Vocab object at 0x000001CDBC094278>, '0': <gensim.models.keyedvectors.Vocab object at 0x000001CDBC0942B0>, 'w': <gensim.models.keyedvectors.Vocab object at 0x000001CDBC0942E8>, 'b': <gensim.models.keyedvectors.Vocab object at 0x000001CDBC094320>, '2': <gensim.models.keyedvectors.Vocab object at 0x000001CDBC094358>, '8': <gensim.models.keyedvectors.Vocab object at 0x000001CDBC094390>, '9': <gensim.models.keyedvectors.Vocab object at 0x000001CDBC0943C8>, 'z': <gensim.models.keyedvectors.Vocab object at 0x000001CDBC094400>, 'j': <gensim.models.keyedvectors.Vocab object at 0x000001CDBC094438>, '\\x89': <gensim.models.keyedvectors.Vocab object at 0x000001CDBC094470>, 'û': <gensim.models.keyedvectors.Vocab object at 0x000001CDBC0944A8>, 'ò': <gensim.models.keyedvectors.Vocab object at 0x000001CDBC0944E0>, 'ó': <gensim.models.keyedvectors.Vocab object at 0x000001CDBC094518>, '\\r': <gensim.models.keyedvectors.Vocab object at 0x000001CDBC094550>, '\\n': <gensim.models.keyedvectors.Vocab object at 0x000001CDBC094588>, 'å': <gensim.models.keyedvectors.Vocab object at 0x000001CDBC0945C0>, 'ê': <gensim.models.keyedvectors.Vocab object at 0x000001CDBC0945F8>, '4': <gensim.models.keyedvectors.Vocab object at 0x000001CDBC094630>, '7': <gensim.models.keyedvectors.Vocab object at 0x000001CDBC094668>, '6': <gensim.models.keyedvectors.Vocab object at 0x000001CDBC0946A0>, '5': <gensim.models.keyedvectors.Vocab object at 0x000001CDBC0946D8>, 'ã': <gensim.models.keyedvectors.Vocab object at 0x000001CDBC094710>, '¢': <gensim.models.keyedvectors.Vocab object at 0x000001CDBC094748>, 'ï': <gensim.models.keyedvectors.Vocab object at 0x000001CDBC094780>, '\\x9d': <gensim.models.keyedvectors.Vocab object at 0x000001CDBC0947B8>, 'ª': <gensim.models.keyedvectors.Vocab object at 0x000001CDBC0947F0>, '÷': <gensim.models.keyedvectors.Vocab object at 0x000001CDBC094828>, 'ì': <gensim.models.keyedvectors.Vocab object at 0x000001CDBC094860>, 'ñ': <gensim.models.keyedvectors.Vocab object at 0x000001CDBC094898>, '£': <gensim.models.keyedvectors.Vocab object at 0x000001CDBC0948D0>, '¤': <gensim.models.keyedvectors.Vocab object at 0x000001CDBC094908>, 'ü': <gensim.models.keyedvectors.Vocab object at 0x000001CDBC094940>, 'ç': <gensim.models.keyedvectors.Vocab object at 0x000001CDBC094978>, 'è': <gensim.models.keyedvectors.Vocab object at 0x000001CDBC0949B0>, 'â': <gensim.models.keyedvectors.Vocab object at 0x000001CDBC0949E8>, '¨': <gensim.models.keyedvectors.Vocab object at 0x000001CDBC094A20>, '©': <gensim.models.keyedvectors.Vocab object at 0x000001CDBC094A58>, '«': <gensim.models.keyedvectors.Vocab object at 0x000001CDBC094A90>, '¼': <gensim.models.keyedvectors.Vocab object at 0x000001CDBC094AC8>, '¡': <gensim.models.keyedvectors.Vocab object at 0x000001CDBC094B00>}\n"
     ]
    }
   ],
   "source": [
    "#Para que esto funcione, se requiere que todas las palabras de todos los textos de los tweets esten en una lista\n",
    "palabras = []\n",
    "def extraer_palabras(string):\n",
    "    splitted = string.split(' ')\n",
    "    for palabra in splitted:\n",
    "        palabras.append(palabra)\n",
    "    \n",
    "df['text'].apply(extraer_palabras)\n",
    "from gensim.models import Word2Vec\n",
    "\n",
    "\n",
    "word2vec = Word2Vec(palabras, min_count=2)\n",
    "vocabulary = word2vec.wv.vocab\n",
    "print(vocabulary)"
   ]
  },
  {
   "cell_type": "code",
   "execution_count": 32,
   "metadata": {},
   "outputs": [],
   "source": [
    "v1 = word2vec.wv['m']"
   ]
  },
  {
   "cell_type": "code",
   "execution_count": null,
   "metadata": {},
   "outputs": [],
   "source": []
  }
 ],
 "metadata": {
  "kernelspec": {
   "display_name": "Python 3",
   "language": "python",
   "name": "python3"
  },
  "language_info": {
   "codemirror_mode": {
    "name": "ipython",
    "version": 3
   },
   "file_extension": ".py",
   "mimetype": "text/x-python",
   "name": "python",
   "nbconvert_exporter": "python",
   "pygments_lexer": "ipython3",
   "version": "3.7.3"
  }
 },
 "nbformat": 4,
 "nbformat_minor": 2
}
