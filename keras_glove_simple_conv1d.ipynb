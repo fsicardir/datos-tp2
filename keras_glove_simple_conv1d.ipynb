{
  "nbformat": 4,
  "nbformat_minor": 0,
  "metadata": {
    "colab": {
      "name": "keras-glove-simple-conv1d.ipynb",
      "provenance": [],
      "collapsed_sections": [],
      "authorship_tag": "ABX9TyMjqtWcmP0Jo+Qc//broZry"
    },
    "kernelspec": {
      "name": "python3",
      "display_name": "Python 3"
    }
  },
  "cells": [
    {
      "cell_type": "code",
      "metadata": {
        "id": "_EFBqSZ2jk72",
        "colab_type": "code",
        "colab": {}
      },
      "source": [
        "!pip install gensim"
      ],
      "execution_count": null,
      "outputs": []
    },
    {
      "cell_type": "code",
      "metadata": {
        "id": "DLIkbtz0d-Nn",
        "colab_type": "code",
        "colab": {
          "base_uri": "https://localhost:8080/",
          "height": 52
        },
        "outputId": "b2c35eda-c295-41bc-e7b4-231983c720ae"
      },
      "source": [
        "import pandas as pd\n",
        "from datetime import datetime\n",
        "import string\n",
        "import nltk\n",
        "nltk.download('stopwords')\n",
        "from nltk.corpus import stopwords\n",
        "import tensorflow as tf\n",
        "import numpy as np\n",
        "from keras.models import Sequential\n",
        "from keras.layers import Dense, Dropout, Flatten, Embedding\n",
        "from keras.layers import Conv1D, GlobalMaxPool1D\n",
        "from keras.preprocessing.text import Tokenizer\n",
        "from keras.preprocessing.sequence import pad_sequences\n",
        "from sklearn.model_selection import train_test_split\n",
        "from sklearn.metrics import f1_score, confusion_matrix"
      ],
      "execution_count": 84,
      "outputs": [
        {
          "output_type": "stream",
          "text": [
            "[nltk_data] Downloading package stopwords to /root/nltk_data...\n",
            "[nltk_data]   Package stopwords is already up-to-date!\n"
          ],
          "name": "stdout"
        }
      ]
    },
    {
      "cell_type": "code",
      "metadata": {
        "id": "9i1E7Gjq0hSv",
        "colab_type": "code",
        "colab": {
          "base_uri": "https://localhost:8080/",
          "height": 364
        },
        "outputId": "d35e6bee-4b0e-412d-8a8e-3d1e02b669e2"
      },
      "source": [
        "!wget -c http://nlp.stanford.edu/data/glove.6B.zip"
      ],
      "execution_count": 28,
      "outputs": [
        {
          "output_type": "stream",
          "text": [
            "--2020-08-04 00:15:36--  http://nlp.stanford.edu/data/glove.6B.zip\n",
            "Resolving nlp.stanford.edu (nlp.stanford.edu)... 171.64.67.140\n",
            "Connecting to nlp.stanford.edu (nlp.stanford.edu)|171.64.67.140|:80... connected.\n",
            "HTTP request sent, awaiting response... 302 Found\n",
            "Location: https://nlp.stanford.edu/data/glove.6B.zip [following]\n",
            "--2020-08-04 00:15:36--  https://nlp.stanford.edu/data/glove.6B.zip\n",
            "Connecting to nlp.stanford.edu (nlp.stanford.edu)|171.64.67.140|:443... connected.\n",
            "HTTP request sent, awaiting response... 301 Moved Permanently\n",
            "Location: http://downloads.cs.stanford.edu/nlp/data/glove.6B.zip [following]\n",
            "--2020-08-04 00:15:36--  http://downloads.cs.stanford.edu/nlp/data/glove.6B.zip\n",
            "Resolving downloads.cs.stanford.edu (downloads.cs.stanford.edu)... 171.64.64.22\n",
            "Connecting to downloads.cs.stanford.edu (downloads.cs.stanford.edu)|171.64.64.22|:80... connected.\n",
            "HTTP request sent, awaiting response... 200 OK\n",
            "Length: 862182613 (822M) [application/zip]\n",
            "Saving to: ‘glove.6B.zip’\n",
            "\n",
            "glove.6B.zip        100%[===================>] 822.24M  2.02MB/s    in 6m 28s  \n",
            "\n",
            "2020-08-04 00:22:04 (2.12 MB/s) - ‘glove.6B.zip’ saved [862182613/862182613]\n",
            "\n"
          ],
          "name": "stdout"
        }
      ]
    },
    {
      "cell_type": "code",
      "metadata": {
        "id": "bGwuO_Om25h2",
        "colab_type": "code",
        "colab": {
          "base_uri": "https://localhost:8080/",
          "height": 104
        },
        "outputId": "e32c4c40-9316-4973-8627-23190b2587f1"
      },
      "source": [
        "!unzip glove.6B.zip"
      ],
      "execution_count": 30,
      "outputs": [
        {
          "output_type": "stream",
          "text": [
            "Archive:  glove.6B.zip\n",
            "  inflating: glove.6B.50d.txt        \n",
            "  inflating: glove.6B.100d.txt       \n",
            "  inflating: glove.6B.200d.txt       \n",
            "  inflating: glove.6B.300d.txt       \n"
          ],
          "name": "stdout"
        }
      ]
    },
    {
      "cell_type": "code",
      "metadata": {
        "id": "l_D-Rg-Zep0L",
        "colab_type": "code",
        "colab": {}
      },
      "source": [
        "url_train = 'https://raw.githubusercontent.com/fsicardir/datos-tp2/master/dataset/train.csv?token=AFVAIUW66UE3NA5X2SYXNPC7GHGJY'\n",
        "url_test = 'https://raw.githubusercontent.com/fsicardir/datos-tp2/master/dataset/test.csv?token=AFVAIUUSBVEOOMDIFV4GU6C7GHGNK'\n",
        "\n",
        "read_train = pd.read_csv(url_train)\n",
        "read_test = pd.read_csv(url_test)"
      ],
      "execution_count": 31,
      "outputs": []
    },
    {
      "cell_type": "code",
      "metadata": {
        "id": "oeqCYvEkfiPx",
        "colab_type": "code",
        "colab": {}
      },
      "source": [
        "df_train = read_train[['id', 'text', 'target']]\n",
        "df_test = read_test[['id', 'text']]"
      ],
      "execution_count": 32,
      "outputs": []
    },
    {
      "cell_type": "code",
      "metadata": {
        "id": "ahaPNzTge_2D",
        "colab_type": "code",
        "colab": {}
      },
      "source": [
        "# Limpiamos los datos de la forma usual\n",
        "# Quitamos las urls\n",
        "df_train['text'] = df_train['text'].str.replace(r'http:\\/\\/.*', '', regex=True).replace(r'https:\\/\\/.*', '', regex=True)\n",
        "df_test['text'] = df_test['text'].str.replace(r'http:\\/\\/.*', '', regex=True).replace(r'https:\\/\\/.*', '', regex=True)\n",
        "\n",
        "# Quitamos user mentions, signos de puntuación, hashtags y stopwords.\n",
        "def clean_text(text):\n",
        "    words = text.lower().split(' ')\n",
        "    text = ' '.join([word for word in words if not word.startswith('@') and word not in stopwords.words('english')])\n",
        "    text = text.translate(str.maketrans('', '', string.punctuation))\n",
        "    return text\n",
        "\n",
        "df_train['text'] = df_train['text'].apply(clean_text)\n",
        "df_test['text'] = df_test['text'].apply(clean_text)\n"
      ],
      "execution_count": null,
      "outputs": []
    },
    {
      "cell_type": "code",
      "metadata": {
        "id": "hgcgxiZElVrq",
        "colab_type": "code",
        "colab": {
          "base_uri": "https://localhost:8080/",
          "height": 34
        },
        "outputId": "9dbc74f1-dec6-40aa-f335-44d8576ce1e4"
      },
      "source": [
        "train_tweets = df_train['text'].tolist()\n",
        "train_target = df_train['target']\n",
        "test_tweets = df_test['text'].tolist()\n",
        "len(train_tweets), len(train_target), len(test_tweets)"
      ],
      "execution_count": 37,
      "outputs": [
        {
          "output_type": "execute_result",
          "data": {
            "text/plain": [
              "(7613, 7613, 3263)"
            ]
          },
          "metadata": {
            "tags": []
          },
          "execution_count": 37
        }
      ]
    },
    {
      "cell_type": "code",
      "metadata": {
        "id": "mcLqY_J23m5X",
        "colab_type": "code",
        "colab": {}
      },
      "source": [
        "tokenizer = Tokenizer()\n",
        "tokenizer.fit_on_texts(train_tweets)\n",
        "vocabulary_size = len(tokenizer.word_index) + 1"
      ],
      "execution_count": 39,
      "outputs": []
    },
    {
      "cell_type": "code",
      "metadata": {
        "id": "gBniM1e55Ceu",
        "colab_type": "code",
        "colab": {
          "base_uri": "https://localhost:8080/",
          "height": 34
        },
        "outputId": "18b41b82-f8a1-4bb1-c8bb-5a7b4c74d2a5"
      },
      "source": [
        "sequences_train = tokenizer.texts_to_sequences(train_tweets)\n",
        "len(sequences)"
      ],
      "execution_count": 44,
      "outputs": [
        {
          "output_type": "execute_result",
          "data": {
            "text/plain": [
              "7613"
            ]
          },
          "metadata": {
            "tags": []
          },
          "execution_count": 44
        }
      ]
    },
    {
      "cell_type": "code",
      "metadata": {
        "id": "1zMXKCbK559R",
        "colab_type": "code",
        "colab": {}
      },
      "source": [
        "# Sabemos que el tweet más largo en palabras tiene 25 palabras.\n",
        "# Vamos a agregar el padding \"al final\"\n",
        "max_padding = 25\n",
        "padded_vecs_train = pad_sequences(sequences_train, maxlen=max_padding, padding='post')"
      ],
      "execution_count": 45,
      "outputs": []
    },
    {
      "cell_type": "code",
      "metadata": {
        "id": "A1P_EKyI7dE4",
        "colab_type": "code",
        "colab": {}
      },
      "source": [
        "# Cargamos los embeddings de GloVe.\n",
        "glove_dict = {}\n",
        "with open('glove.6B.100d.txt') as f:\n",
        "  for line in f:\n",
        "      values = line.split()\n",
        "      word = values[0]\n",
        "      vector = np.asarray(values[1:], dtype='float32')\n",
        "      glove_dict[word] = vector"
      ],
      "execution_count": 46,
      "outputs": []
    },
    {
      "cell_type": "code",
      "metadata": {
        "id": "m39JEMJp9Uyb",
        "colab_type": "code",
        "colab": {}
      },
      "source": [
        "# Ahora vamos a crear una matriz que tendrá los embeddings de GloVe\n",
        "# correspondientes a cada palabra de nuestro vocabulario.\n",
        "# Esto se lo pasaremos como pesos a la capa de Embedding del modelo a entrenar.\n",
        "embedding_dim = 100\n",
        "embedding_matrix = np.zeros((vocabulary_size, embedding_dim))\n",
        "for word, i in tokenizer.word_index.items():\n",
        "    embedding_vector = glove_dict.get(word, None)\n",
        "    if embedding_vector is not None:\n",
        "        embedding_matrix[i] = embedding_vector"
      ],
      "execution_count": 47,
      "outputs": []
    },
    {
      "cell_type": "code",
      "metadata": {
        "id": "uhZsDSQMAauE",
        "colab_type": "code",
        "colab": {
          "base_uri": "https://localhost:8080/",
          "height": 34
        },
        "outputId": "315f711a-24f8-4ddf-baa3-9e24a2b96f74"
      },
      "source": [
        "# Vamos a dividir el set de entrenamiento para obtener un set de validación\n",
        "# y así comenzar a entrenar nuestro modelo.\n",
        "X_train, X_test, y_train, y_test = train_test_split(padded_vecs_train, train_target, test_size=0.2, random_state=17)\n",
        "\n",
        "X_train.shape, y_train.shape, X_test.shape, y_test.shape"
      ],
      "execution_count": 65,
      "outputs": [
        {
          "output_type": "execute_result",
          "data": {
            "text/plain": [
              "((6090, 25), (6090,), (1523, 25), (1523,))"
            ]
          },
          "metadata": {
            "tags": []
          },
          "execution_count": 65
        }
      ]
    },
    {
      "cell_type": "code",
      "metadata": {
        "id": "y-BojuU7BPGW",
        "colab_type": "code",
        "colab": {
          "base_uri": "https://localhost:8080/",
          "height": 295
        },
        "outputId": "1cf114f9-273a-445e-c81e-6e683913954f"
      },
      "source": [
        "# Ahora creemos nuestro modelo\n",
        "model = Sequential()\n",
        "emb_layer = Embedding(input_dim=vocabulary_size, output_dim=embedding_dim, weights=[embedding_matrix], input_length=max_padding, trainable=False)\n",
        "\n",
        "model.add(emb_layer)\n",
        "model.add(Conv1D(100, 10, activation='relu'))\n",
        "model.add(GlobalMaxPool1D())\n",
        "model.add(Dense(1, activation='sigmoid'))\n",
        "model.compile(loss=\"binary_crossentropy\", optimizer=\"adam\", metrics=[\"accuracy\"])\n",
        "model.summary()"
      ],
      "execution_count": 68,
      "outputs": [
        {
          "output_type": "stream",
          "text": [
            "Model: \"sequential_4\"\n",
            "_________________________________________________________________\n",
            "Layer (type)                 Output Shape              Param #   \n",
            "=================================================================\n",
            "embedding_3 (Embedding)      (None, 25, 100)           1540300   \n",
            "_________________________________________________________________\n",
            "conv1d_3 (Conv1D)            (None, 16, 100)           100100    \n",
            "_________________________________________________________________\n",
            "global_max_pooling1d_3 (Glob (None, 100)               0         \n",
            "_________________________________________________________________\n",
            "dense_2 (Dense)              (None, 1)                 101       \n",
            "=================================================================\n",
            "Total params: 1,640,501\n",
            "Trainable params: 100,201\n",
            "Non-trainable params: 1,540,300\n",
            "_________________________________________________________________\n"
          ],
          "name": "stdout"
        }
      ]
    },
    {
      "cell_type": "code",
      "metadata": {
        "id": "f80Nl-dXI2x8",
        "colab_type": "code",
        "colab": {
          "base_uri": "https://localhost:8080/",
          "height": 228
        },
        "outputId": "b1ef8aa2-61f8-4098-cc64-ac27293b8bd6"
      },
      "source": [
        "epochs = 5\n",
        "model.fit(X_train, y_train, epochs=epochs, validation_data=(X_test, y_test))"
      ],
      "execution_count": 70,
      "outputs": [
        {
          "output_type": "stream",
          "text": [
            "Epoch 1/5\n",
            "191/191 [==============================] - 2s 11ms/step - loss: 0.1567 - accuracy: 0.9542 - val_loss: 0.5659 - val_accuracy: 0.7781\n",
            "Epoch 2/5\n",
            "191/191 [==============================] - 2s 10ms/step - loss: 0.1477 - accuracy: 0.9611 - val_loss: 0.5645 - val_accuracy: 0.7846\n",
            "Epoch 3/5\n",
            "191/191 [==============================] - 2s 10ms/step - loss: 0.1393 - accuracy: 0.9622 - val_loss: 0.5731 - val_accuracy: 0.7840\n",
            "Epoch 4/5\n",
            "191/191 [==============================] - 2s 10ms/step - loss: 0.1355 - accuracy: 0.9658 - val_loss: 0.5993 - val_accuracy: 0.7951\n",
            "Epoch 5/5\n",
            "191/191 [==============================] - 2s 11ms/step - loss: 0.1283 - accuracy: 0.9688 - val_loss: 0.6480 - val_accuracy: 0.7820\n"
          ],
          "name": "stdout"
        },
        {
          "output_type": "execute_result",
          "data": {
            "text/plain": [
              "<tensorflow.python.keras.callbacks.History at 0x7f23b355d5f8>"
            ]
          },
          "metadata": {
            "tags": []
          },
          "execution_count": 70
        }
      ]
    },
    {
      "cell_type": "code",
      "metadata": {
        "id": "v7Ig279QPc0B",
        "colab_type": "code",
        "colab": {}
      },
      "source": [
        "def metrics(predictions, y_test):\n",
        "    tn, fp, fn, tp = confusion_matrix(y_test, predictions).ravel()\n",
        "    print(f'Verdaderos Negativos: {tn}')\n",
        "    print(f'Falsos Negativos: {fn}')\n",
        "    print(f'Verdaderos Positivos: {tp}')\n",
        "    print(f'Falsos Positivos: {fp}')\n",
        "    print()\n",
        "    print(f'f1 score: {f1_score(y_test,  predictions)}')"
      ],
      "execution_count": 86,
      "outputs": []
    },
    {
      "cell_type": "code",
      "metadata": {
        "id": "QEd2M_dsLIrD",
        "colab_type": "code",
        "colab": {
          "base_uri": "https://localhost:8080/",
          "height": 121
        },
        "outputId": "7a4ad4d0-53d0-4ce7-ebac-5842b948c493"
      },
      "source": [
        "preds = model.predict_classes(X_test)\n",
        "\n",
        "metrics(preds, y_test)"
      ],
      "execution_count": 87,
      "outputs": [
        {
          "output_type": "stream",
          "text": [
            "Verdaderos Negativos: 766\n",
            "Falsos Negativos: 242\n",
            "Verdaderos Positivos: 425\n",
            "Falsos Positivos: 90\n",
            "\n",
            "f1 score: 0.71912013536379\n"
          ],
          "name": "stdout"
        }
      ]
    },
    {
      "cell_type": "code",
      "metadata": {
        "id": "dGzdX3RDMQDT",
        "colab_type": "code",
        "colab": {
          "base_uri": "https://localhost:8080/",
          "height": 34
        },
        "outputId": "708cb554-f677-446e-9adb-b04ce6236210"
      },
      "source": [
        "# Ahora haremos una predicción para la competencia.\n",
        "sequences_test = tokenizer.texts_to_sequences(test_tweets)\n",
        "padded_vecs_test = pad_sequences(sequences_test, maxlen=max_padding, padding='post')\n",
        "\n",
        "kaggle_preds = model.predict_classes(padded_vecs_test)\n",
        "len(kaggle_preds)"
      ],
      "execution_count": 74,
      "outputs": [
        {
          "output_type": "execute_result",
          "data": {
            "text/plain": [
              "3263"
            ]
          },
          "metadata": {
            "tags": []
          },
          "execution_count": 74
        }
      ]
    },
    {
      "cell_type": "code",
      "metadata": {
        "id": "KKaV_L7cNncM",
        "colab_type": "code",
        "colab": {
          "base_uri": "https://localhost:8080/",
          "height": 206
        },
        "outputId": "dcb619ed-67b5-4944-effe-981b6497f995"
      },
      "source": [
        "result = df_test[['id']]\n",
        "result['target'] = kaggle_preds\n",
        "result.head()"
      ],
      "execution_count": 79,
      "outputs": [
        {
          "output_type": "execute_result",
          "data": {
            "text/html": [
              "<div>\n",
              "<style scoped>\n",
              "    .dataframe tbody tr th:only-of-type {\n",
              "        vertical-align: middle;\n",
              "    }\n",
              "\n",
              "    .dataframe tbody tr th {\n",
              "        vertical-align: top;\n",
              "    }\n",
              "\n",
              "    .dataframe thead th {\n",
              "        text-align: right;\n",
              "    }\n",
              "</style>\n",
              "<table border=\"1\" class=\"dataframe\">\n",
              "  <thead>\n",
              "    <tr style=\"text-align: right;\">\n",
              "      <th></th>\n",
              "      <th>id</th>\n",
              "      <th>target</th>\n",
              "    </tr>\n",
              "  </thead>\n",
              "  <tbody>\n",
              "    <tr>\n",
              "      <th>0</th>\n",
              "      <td>0</td>\n",
              "      <td>1</td>\n",
              "    </tr>\n",
              "    <tr>\n",
              "      <th>1</th>\n",
              "      <td>2</td>\n",
              "      <td>1</td>\n",
              "    </tr>\n",
              "    <tr>\n",
              "      <th>2</th>\n",
              "      <td>3</td>\n",
              "      <td>1</td>\n",
              "    </tr>\n",
              "    <tr>\n",
              "      <th>3</th>\n",
              "      <td>9</td>\n",
              "      <td>1</td>\n",
              "    </tr>\n",
              "    <tr>\n",
              "      <th>4</th>\n",
              "      <td>11</td>\n",
              "      <td>1</td>\n",
              "    </tr>\n",
              "  </tbody>\n",
              "</table>\n",
              "</div>"
            ],
            "text/plain": [
              "   id  target\n",
              "0   0       1\n",
              "1   2       1\n",
              "2   3       1\n",
              "3   9       1\n",
              "4  11       1"
            ]
          },
          "metadata": {
            "tags": []
          },
          "execution_count": 79
        }
      ]
    },
    {
      "cell_type": "code",
      "metadata": {
        "id": "xmDOWFLDNKh3",
        "colab_type": "code",
        "colab": {}
      },
      "source": [
        "now = datetime.now(tz=None).strftime('%Y-%m-%dT%H:%M:%S')\n",
        "result.to_csv(f'prediction_{now}.csv', encoding='utf-8', index=False)"
      ],
      "execution_count": 85,
      "outputs": []
    },
    {
      "cell_type": "code",
      "metadata": {
        "id": "fhJh4miZOKFq",
        "colab_type": "code",
        "colab": {}
      },
      "source": [
        ""
      ],
      "execution_count": null,
      "outputs": []
    }
  ]
}