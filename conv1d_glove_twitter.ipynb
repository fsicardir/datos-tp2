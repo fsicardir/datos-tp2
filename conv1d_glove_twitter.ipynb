{
  "nbformat": 4,
  "nbformat_minor": 0,
  "metadata": {
    "colab": {
      "name": "conv1d-glove-twitter.ipynb",
      "provenance": [],
      "collapsed_sections": [],
      "toc_visible": true,
      "authorship_tag": "ABX9TyNTJ0oeVhFgq7oegvDKFWpu"
    },
    "kernelspec": {
      "name": "python3",
      "display_name": "Python 3"
    }
  },
  "cells": [
    {
      "cell_type": "markdown",
      "metadata": {
        "id": "lPd4XDzMFRLa",
        "colab_type": "text"
      },
      "source": [
        "# GloVe - Twitter - CNN - RNN\n",
        "\n",
        "En este notebook vamos a utilizar embeddings ya generados para entrenar distintos modelos basados en redes neuronales.\n",
        "\n",
        "En particular vamos a utilizar un set de embeddings creado a partir de tweets.\n",
        "\n",
        "El armado de los modelos está inspirado en las recomendaciones del siguiente paper https://arxiv.org/pdf/1510.03820.pdf\n"
      ]
    },
    {
      "cell_type": "code",
      "metadata": {
        "id": "BohmdZEV-9iQ",
        "colab_type": "code",
        "colab": {
          "base_uri": "https://localhost:8080/",
          "height": 54
        },
        "outputId": "1210a917-66aa-4365-b81a-cdf133d26129"
      },
      "source": [
        "import pandas as pd\n",
        "from datetime import datetime\n",
        "import string\n",
        "import nltk\n",
        "nltk.download('stopwords')\n",
        "from nltk.corpus import stopwords\n",
        "import numpy as np\n",
        "from keras.models import Sequential, Model\n",
        "from keras.layers import Dense, Dropout, LSTM, Embedding, concatenate, Input, average\n",
        "from keras.layers import Conv1D, GlobalMaxPooling1D, GlobalMaxPool1D\n",
        "from keras.preprocessing.text import Tokenizer\n",
        "from keras.preprocessing.sequence import pad_sequences\n",
        "from sklearn.model_selection import train_test_split\n",
        "from sklearn.metrics import f1_score, confusion_matrix, precision_score, recall_score\n",
        "from keras.utils import plot_model\n",
        "\n",
        "def metrics(predictions, y_test):\n",
        "    tn, fp, fn, tp = confusion_matrix(y_test, predictions).ravel()\n",
        "    print(f'Verdaderos Negativos: {tn}')\n",
        "    print(f'Falsos Negativos: {fn}')\n",
        "    print(f'Verdaderos Positivos: {tp}')\n",
        "    print(f'Falsos Positivos: {fp}')\n",
        "    print()\n",
        "    print(f'precision score: {precision_score(y_test, predictions)}')\n",
        "    print(f'recall score: {recall_score(y_test, predictions)}')\n",
        "    print(f'f1 score: {f1_score(y_test,  predictions)}')"
      ],
      "execution_count": null,
      "outputs": [
        {
          "output_type": "stream",
          "text": [
            "[nltk_data] Downloading package stopwords to /root/nltk_data...\n",
            "[nltk_data]   Package stopwords is already up-to-date!\n"
          ],
          "name": "stdout"
        }
      ]
    },
    {
      "cell_type": "markdown",
      "metadata": {
        "id": "GZ9X7nMoF99w",
        "colab_type": "text"
      },
      "source": [
        "Descargamos los embeddings y dejamos listo los archivos necesarios para poder trabajar."
      ]
    },
    {
      "cell_type": "code",
      "metadata": {
        "id": "y3ymkFH9_UVx",
        "colab_type": "code",
        "colab": {
          "base_uri": "https://localhost:8080/",
          "height": 384
        },
        "outputId": "47a7a410-1c65-4160-d30e-128f297d5794"
      },
      "source": [
        "!wget -c http://nlp.stanford.edu/data/glove.twitter.27B.zip"
      ],
      "execution_count": null,
      "outputs": [
        {
          "output_type": "stream",
          "text": [
            "--2020-08-05 12:01:40--  http://nlp.stanford.edu/data/glove.twitter.27B.zip\n",
            "Resolving nlp.stanford.edu (nlp.stanford.edu)... 171.64.67.140\n",
            "Connecting to nlp.stanford.edu (nlp.stanford.edu)|171.64.67.140|:80... connected.\n",
            "HTTP request sent, awaiting response... 302 Found\n",
            "Location: https://nlp.stanford.edu/data/glove.twitter.27B.zip [following]\n",
            "--2020-08-05 12:01:40--  https://nlp.stanford.edu/data/glove.twitter.27B.zip\n",
            "Connecting to nlp.stanford.edu (nlp.stanford.edu)|171.64.67.140|:443... connected.\n",
            "HTTP request sent, awaiting response... 301 Moved Permanently\n",
            "Location: http://downloads.cs.stanford.edu/nlp/data/glove.twitter.27B.zip [following]\n",
            "--2020-08-05 12:01:40--  http://downloads.cs.stanford.edu/nlp/data/glove.twitter.27B.zip\n",
            "Resolving downloads.cs.stanford.edu (downloads.cs.stanford.edu)... 171.64.64.22\n",
            "Connecting to downloads.cs.stanford.edu (downloads.cs.stanford.edu)|171.64.64.22|:80... connected.\n",
            "HTTP request sent, awaiting response... 200 OK\n",
            "Length: 1520408563 (1.4G) [application/zip]\n",
            "Saving to: ‘glove.twitter.27B.zip’\n",
            "\n",
            "glove.twitter.27B.z 100%[===================>]   1.42G  2.07MB/s    in 11m 41s \n",
            "\n",
            "2020-08-05 12:13:21 (2.07 MB/s) - ‘glove.twitter.27B.zip’ saved [1520408563/1520408563]\n",
            "\n"
          ],
          "name": "stdout"
        }
      ]
    },
    {
      "cell_type": "code",
      "metadata": {
        "id": "EGgd4ddm_WgG",
        "colab_type": "code",
        "colab": {
          "base_uri": "https://localhost:8080/",
          "height": 109
        },
        "outputId": "ebb2d84c-38a4-4c6f-8328-e4695d70433e"
      },
      "source": [
        "!unzip glove.twitter.27B.zip"
      ],
      "execution_count": null,
      "outputs": [
        {
          "output_type": "stream",
          "text": [
            "Archive:  glove.twitter.27B.zip\n",
            "  inflating: glove.twitter.27B.25d.txt  \n",
            "  inflating: glove.twitter.27B.50d.txt  \n",
            "  inflating: glove.twitter.27B.100d.txt  \n",
            "  inflating: glove.twitter.27B.200d.txt  \n"
          ],
          "name": "stdout"
        }
      ]
    },
    {
      "cell_type": "markdown",
      "metadata": {
        "id": "iZKlHAWRGFvO",
        "colab_type": "text"
      },
      "source": [
        "## Preprocesamiento de los datos.\n",
        "En primer lugar vamos a cargar los datasets de la competencia y realizar el mismo preprocesamiento realizado en el TP1 que consiste en limpiar el texto eliminando signos de puntuación, menciones, hashtags y urls.\n"
      ]
    },
    {
      "cell_type": "code",
      "metadata": {
        "id": "FfDthcVD_Ytg",
        "colab_type": "code",
        "colab": {}
      },
      "source": [
        "url_train = 'https://raw.githubusercontent.com/fsicardir/datos-tp2/master/dataset/train.csv?token=AFVAIUW66UE3NA5X2SYXNPC7GHGJY'\n",
        "url_test = 'https://raw.githubusercontent.com/fsicardir/datos-tp2/master/dataset/test.csv?token=AFVAIUUSBVEOOMDIFV4GU6C7GHGNK'\n",
        "\n",
        "read_train = pd.read_csv(url_train)\n",
        "read_test = pd.read_csv(url_test)"
      ],
      "execution_count": null,
      "outputs": []
    },
    {
      "cell_type": "code",
      "metadata": {
        "id": "68PLfbtOFDdT",
        "colab_type": "code",
        "colab": {
          "base_uri": "https://localhost:8080/",
          "height": 458
        },
        "outputId": "b146d481-63bf-4fc1-826b-75fa5906220c"
      },
      "source": [
        "df_train = read_train[['id', 'text', 'target']]\n",
        "df_test = read_test[['id', 'text']]\n",
        "\n",
        "# Limpiamos los datos de la forma usual\n",
        "# Quitamos las urls\n",
        "df_train['text'] = df_train['text'].str.replace(r'http:\\/\\/.*', '', regex=True).replace(r'https:\\/\\/.*', '', regex=True)\n",
        "df_test['text'] = df_test['text'].str.replace(r'http:\\/\\/.*', '', regex=True).replace(r'https:\\/\\/.*', '', regex=True)\n",
        "\n",
        "# Quitamos user mentions, signos de puntuación, hashtags y stopwords.\n",
        "def clean_text(text):\n",
        "    words = text.lower().split(' ')\n",
        "    text = ' '.join([word for word in words if not word.startswith('@') and word not in stopwords.words('english')])\n",
        "    text = text.translate(str.maketrans('', '', string.punctuation))\n",
        "    return text\n",
        "\n",
        "df_train['text'] = df_train['text'].apply(clean_text)\n",
        "df_test['text'] = df_test['text'].apply(clean_text)\n",
        "\n",
        "train_tweets = df_train['text'].tolist()\n",
        "train_target = df_train['target']\n",
        "test_tweets = df_test['text'].tolist()\n",
        "len(train_tweets), len(train_target), len(test_tweets)"
      ],
      "execution_count": null,
      "outputs": [
        {
          "output_type": "stream",
          "text": [
            "/usr/local/lib/python3.6/dist-packages/ipykernel_launcher.py:6: SettingWithCopyWarning: \n",
            "A value is trying to be set on a copy of a slice from a DataFrame.\n",
            "Try using .loc[row_indexer,col_indexer] = value instead\n",
            "\n",
            "See the caveats in the documentation: https://pandas.pydata.org/pandas-docs/stable/user_guide/indexing.html#returning-a-view-versus-a-copy\n",
            "  \n",
            "/usr/local/lib/python3.6/dist-packages/ipykernel_launcher.py:7: SettingWithCopyWarning: \n",
            "A value is trying to be set on a copy of a slice from a DataFrame.\n",
            "Try using .loc[row_indexer,col_indexer] = value instead\n",
            "\n",
            "See the caveats in the documentation: https://pandas.pydata.org/pandas-docs/stable/user_guide/indexing.html#returning-a-view-versus-a-copy\n",
            "  import sys\n",
            "/usr/local/lib/python3.6/dist-packages/ipykernel_launcher.py:16: SettingWithCopyWarning: \n",
            "A value is trying to be set on a copy of a slice from a DataFrame.\n",
            "Try using .loc[row_indexer,col_indexer] = value instead\n",
            "\n",
            "See the caveats in the documentation: https://pandas.pydata.org/pandas-docs/stable/user_guide/indexing.html#returning-a-view-versus-a-copy\n",
            "  app.launch_new_instance()\n",
            "/usr/local/lib/python3.6/dist-packages/ipykernel_launcher.py:17: SettingWithCopyWarning: \n",
            "A value is trying to be set on a copy of a slice from a DataFrame.\n",
            "Try using .loc[row_indexer,col_indexer] = value instead\n",
            "\n",
            "See the caveats in the documentation: https://pandas.pydata.org/pandas-docs/stable/user_guide/indexing.html#returning-a-view-versus-a-copy\n"
          ],
          "name": "stderr"
        },
        {
          "output_type": "execute_result",
          "data": {
            "text/plain": [
              "(7613, 7613, 3263)"
            ]
          },
          "metadata": {
            "tags": []
          },
          "execution_count": 258
        }
      ]
    },
    {
      "cell_type": "markdown",
      "metadata": {
        "id": "NMuNDumRGeuF",
        "colab_type": "text"
      },
      "source": [
        "Ahora vamos a tokenizar los tweets y pasarlos a un formato en el cual reemplazaremos las palabras por sus índices en el tokenizador.\n",
        "\n",
        "Esto es porque las redes necesitan como input valores numéricos, y haciendo este mapeo logramos transformar las palabras del tweet a números.\n",
        "\n",
        "Estos índices luego estarán mapeados a los vectores pre-entrenados que descargamos anteriormente, formando así la matriz de embeddings que es la que utilizará la red en su capa de Embedding."
      ]
    },
    {
      "cell_type": "code",
      "metadata": {
        "id": "z0d8XbfkGcGv",
        "colab_type": "code",
        "colab": {}
      },
      "source": [
        "tokenizer = Tokenizer()\n",
        "tokenizer.fit_on_texts(train_tweets)\n",
        "vocabulary_size = len(tokenizer.word_index) + 1\n",
        "\n",
        "\n",
        "\n",
        "sequences_train = tokenizer.texts_to_sequences(train_tweets)\n",
        "\n",
        "# Sabemos que el tweet más largo en palabras tiene 25 palabras.\n",
        "# Vamos a agregar el padding \"al final\"\n",
        "max_padding = 25\n",
        "padded_vecs_train = pad_sequences(sequences_train, maxlen=max_padding, padding='post')\n",
        "\n",
        "# Cargamos los embeddings de GloVe. Utilizaremos los de 200 dimensiones.\n",
        "glove_dict = {}\n",
        "with open('glove.twitter.27B.200d.txt') as f:\n",
        "  for line in f:\n",
        "      values = line.split()\n",
        "      word = values[0]\n",
        "      vector = np.asarray(values[1:], dtype='float32')\n",
        "      glove_dict[word] = vector\n",
        "\n",
        "# Ahora vamos a crear una matriz que tendrá los embeddings de GloVe\n",
        "# correspondientes a cada palabra de nuestro vocabulario.\n",
        "# Esto se lo pasaremos como pesos a la capa de Embedding del modelo a entrenar.\n",
        "embedding_dim = 200\n",
        "embedding_matrix = np.zeros((vocabulary_size, embedding_dim))\n",
        "for word, i in tokenizer.word_index.items():\n",
        "    embedding_vector = glove_dict.get(word, None)\n",
        "    if embedding_vector is not None:\n",
        "        embedding_matrix[i] = embedding_vector"
      ],
      "execution_count": null,
      "outputs": []
    },
    {
      "cell_type": "code",
      "metadata": {
        "id": "ndieiKMZNP59",
        "colab_type": "code",
        "colab": {
          "base_uri": "https://localhost:8080/",
          "height": 35
        },
        "outputId": "5532d826-eb71-4b76-a810-b76940f30642"
      },
      "source": [
        "# Vamos a dividir el set de entrenamiento para obtener un set de validación\n",
        "# y así comenzar a entrenar nuestro modelo.\n",
        "X_train, X_test, y_train, y_test = train_test_split(padded_vecs_train, train_target, test_size=0.2, random_state=31)\n",
        "\n",
        "X_train.shape, y_train.shape, X_test.shape, y_test.shape"
      ],
      "execution_count": null,
      "outputs": [
        {
          "output_type": "execute_result",
          "data": {
            "text/plain": [
              "((6090, 25), (6090,), (1523, 25), (1523,))"
            ]
          },
          "metadata": {
            "tags": []
          },
          "execution_count": 7
        }
      ]
    },
    {
      "cell_type": "code",
      "metadata": {
        "id": "_7EVpmqEP5jc",
        "colab_type": "code",
        "colab": {
          "base_uri": "https://localhost:8080/",
          "height": 348
        },
        "outputId": "74274ee4-0809-4503-d538-676af9b3251e"
      },
      "source": [
        "# Ahora creemos nuestro modelo, el cual tendrá una única capa de convolución,\n",
        "# una capa de MaxPooling, una capa de Dropout y una capa final para hacer la clasificación.\n",
        "# Este modelo dio 0.796 como score en Kaggle.\n",
        "model = Sequential()\n",
        "emb_layer = Embedding(input_dim=vocabulary_size, output_dim=embedding_dim, weights=[embedding_matrix], input_length=max_padding, trainable=False)\n",
        "\n",
        "model.add(emb_layer)\n",
        "model.add(Conv1D(filters=100, kernel_size=5, activation='relu', padding='same'))\n",
        "model.add(GlobalMaxPooling1D())\n",
        "model.add(Dropout(0.5))\n",
        "model.add(Dense(1, activation='sigmoid'))\n",
        "model.compile(loss='binary_crossentropy', optimizer='adam', metrics=['accuracy'])\n",
        "model.summary()"
      ],
      "execution_count": null,
      "outputs": [
        {
          "output_type": "stream",
          "text": [
            "Model: \"sequential_7\"\n",
            "_________________________________________________________________\n",
            "Layer (type)                 Output Shape              Param #   \n",
            "=================================================================\n",
            "embedding_24 (Embedding)     (None, 25, 200)           3080600   \n",
            "_________________________________________________________________\n",
            "conv1d_61 (Conv1D)           (None, 25, 100)           100100    \n",
            "_________________________________________________________________\n",
            "global_max_pooling1d_42 (Glo (None, 100)               0         \n",
            "_________________________________________________________________\n",
            "dropout_7 (Dropout)          (None, 100)               0         \n",
            "_________________________________________________________________\n",
            "dense_25 (Dense)             (None, 1)                 101       \n",
            "=================================================================\n",
            "Total params: 3,180,801\n",
            "Trainable params: 100,201\n",
            "Non-trainable params: 3,080,600\n",
            "_________________________________________________________________\n"
          ],
          "name": "stdout"
        }
      ]
    },
    {
      "cell_type": "code",
      "metadata": {
        "id": "nIzRIsq93M96",
        "colab_type": "code",
        "colab": {
          "base_uri": "https://localhost:8080/",
          "height": 564
        },
        "outputId": "2c8d70db-910a-4f10-b271-2c74030cde31"
      },
      "source": [
        "plot_model(model)"
      ],
      "execution_count": null,
      "outputs": [
        {
          "output_type": "execute_result",
          "data": {
            "image/png": "[encoded data removed]",
            "text/plain": [
              "<IPython.core.display.Image object>"
            ]
          },
          "metadata": {
            "tags": []
          },
          "execution_count": 70
        }
      ]
    },
    {
      "cell_type": "code",
      "metadata": {
        "id": "H7h0DwpEQ6Cf",
        "colab_type": "code",
        "colab": {
          "base_uri": "https://localhost:8080/",
          "height": 770
        },
        "outputId": "894f15ab-f475-4a76-bbc5-06300895b1a2"
      },
      "source": [
        "epochs = 20\n",
        "model.fit(X_train, y_train, epochs=epochs, validation_data=(X_test, y_test))"
      ],
      "execution_count": null,
      "outputs": [
        {
          "output_type": "stream",
          "text": [
            "Epoch 1/20\n",
            "191/191 [==============================] - 3s 14ms/step - loss: 0.5150 - accuracy: 0.7585 - val_loss: 0.4310 - val_accuracy: 0.8011\n",
            "Epoch 2/20\n",
            "191/191 [==============================] - 3s 14ms/step - loss: 0.3990 - accuracy: 0.8227 - val_loss: 0.4221 - val_accuracy: 0.8135\n",
            "Epoch 3/20\n",
            "191/191 [==============================] - 3s 15ms/step - loss: 0.3472 - accuracy: 0.8517 - val_loss: 0.4259 - val_accuracy: 0.8122\n",
            "Epoch 4/20\n",
            "191/191 [==============================] - 3s 16ms/step - loss: 0.3032 - accuracy: 0.8762 - val_loss: 0.4344 - val_accuracy: 0.8063\n",
            "Epoch 5/20\n",
            "191/191 [==============================] - 3s 14ms/step - loss: 0.2611 - accuracy: 0.8989 - val_loss: 0.4503 - val_accuracy: 0.7984\n",
            "Epoch 6/20\n",
            "191/191 [==============================] - 3s 14ms/step - loss: 0.2423 - accuracy: 0.9097 - val_loss: 0.4501 - val_accuracy: 0.8129\n",
            "Epoch 7/20\n",
            "191/191 [==============================] - 3s 14ms/step - loss: 0.2114 - accuracy: 0.9217 - val_loss: 0.4705 - val_accuracy: 0.8116\n",
            "Epoch 8/20\n",
            "191/191 [==============================] - 3s 14ms/step - loss: 0.1892 - accuracy: 0.9291 - val_loss: 0.4761 - val_accuracy: 0.8109\n",
            "Epoch 9/20\n",
            "191/191 [==============================] - 3s 14ms/step - loss: 0.1726 - accuracy: 0.9412 - val_loss: 0.4855 - val_accuracy: 0.8070\n",
            "Epoch 10/20\n",
            "191/191 [==============================] - 3s 14ms/step - loss: 0.1553 - accuracy: 0.9483 - val_loss: 0.5122 - val_accuracy: 0.8083\n",
            "Epoch 11/20\n",
            "191/191 [==============================] - 3s 14ms/step - loss: 0.1593 - accuracy: 0.9465 - val_loss: 0.5159 - val_accuracy: 0.8017\n",
            "Epoch 12/20\n",
            "191/191 [==============================] - 3s 14ms/step - loss: 0.1463 - accuracy: 0.9506 - val_loss: 0.5163 - val_accuracy: 0.8122\n",
            "Epoch 13/20\n",
            "191/191 [==============================] - 3s 14ms/step - loss: 0.1436 - accuracy: 0.9514 - val_loss: 0.5376 - val_accuracy: 0.8056\n",
            "Epoch 14/20\n",
            "191/191 [==============================] - 3s 14ms/step - loss: 0.1424 - accuracy: 0.9517 - val_loss: 0.5457 - val_accuracy: 0.8056\n",
            "Epoch 15/20\n",
            "191/191 [==============================] - 3s 14ms/step - loss: 0.1324 - accuracy: 0.9529 - val_loss: 0.5501 - val_accuracy: 0.8043\n",
            "Epoch 16/20\n",
            "191/191 [==============================] - 3s 14ms/step - loss: 0.1307 - accuracy: 0.9568 - val_loss: 0.5682 - val_accuracy: 0.8024\n",
            "Epoch 17/20\n",
            "191/191 [==============================] - 3s 14ms/step - loss: 0.1310 - accuracy: 0.9571 - val_loss: 0.5614 - val_accuracy: 0.8129\n",
            "Epoch 18/20\n",
            "191/191 [==============================] - 3s 13ms/step - loss: 0.1194 - accuracy: 0.9627 - val_loss: 0.5832 - val_accuracy: 0.8109\n",
            "Epoch 19/20\n",
            "191/191 [==============================] - 3s 13ms/step - loss: 0.1262 - accuracy: 0.9603 - val_loss: 0.5701 - val_accuracy: 0.8076\n",
            "Epoch 20/20\n",
            "191/191 [==============================] - 3s 13ms/step - loss: 0.1271 - accuracy: 0.9601 - val_loss: 0.5825 - val_accuracy: 0.8017\n"
          ],
          "name": "stdout"
        },
        {
          "output_type": "execute_result",
          "data": {
            "text/plain": [
              "<tensorflow.python.keras.callbacks.History at 0x7fce3e8056d8>"
            ]
          },
          "metadata": {
            "tags": []
          },
          "execution_count": 9
        }
      ]
    },
    {
      "cell_type": "code",
      "metadata": {
        "id": "BmWbjO7lm2iQ",
        "colab_type": "code",
        "colab": {
          "base_uri": "https://localhost:8080/",
          "height": 239
        },
        "outputId": "83c9b6c4-555a-4991-90cc-092795cc5cbd"
      },
      "source": [
        "val_preds = model.predict_classes(X_test)\n",
        "\n",
        "metrics(val_preds, y_test)"
      ],
      "execution_count": null,
      "outputs": [
        {
          "output_type": "stream",
          "text": [
            "WARNING:tensorflow:From <ipython-input-10-990391ddc6d4>:1: Sequential.predict_classes (from tensorflow.python.keras.engine.sequential) is deprecated and will be removed after 2021-01-01.\n",
            "Instructions for updating:\n",
            "Please use instead:* `np.argmax(model.predict(x), axis=-1)`,   if your model does multi-class classification   (e.g. if it uses a `softmax` last-layer activation).* `(model.predict(x) > 0.5).astype(\"int32\")`,   if your model does binary classification   (e.g. if it uses a `sigmoid` last-layer activation).\n",
            "Verdaderos Negativos: 707\n",
            "Falsos Negativos: 155\n",
            "Verdaderos Positivos: 514\n",
            "Falsos Positivos: 147\n",
            "\n",
            "precision score: 0.7776096822995462\n",
            "recall score: 0.7683109118086696\n",
            "f1 score: 0.7729323308270677\n"
          ],
          "name": "stdout"
        }
      ]
    },
    {
      "cell_type": "code",
      "metadata": {
        "id": "7U3f_l97l0U4",
        "colab_type": "code",
        "colab": {
          "base_uri": "https://localhost:8080/",
          "height": 770
        },
        "outputId": "d9989d41-6c7b-434f-d588-babaccc43b23"
      },
      "source": [
        "# Entrenamos la red con el total del set de datos y luego hacemos una predicción para la competencia.\n",
        "sequences_test = tokenizer.texts_to_sequences(test_tweets)\n",
        "padded_vecs_test = pad_sequences(sequences_test, maxlen=max_padding, padding='post')\n",
        "model.fit(padded_vecs_train, train_target, epochs=epochs)"
      ],
      "execution_count": null,
      "outputs": [
        {
          "output_type": "stream",
          "text": [
            "Epoch 1/20\n",
            "238/238 [==============================] - 2s 10ms/step - loss: 0.2215 - accuracy: 0.9275\n",
            "Epoch 2/20\n",
            "238/238 [==============================] - 2s 10ms/step - loss: 0.1744 - accuracy: 0.9387\n",
            "Epoch 3/20\n",
            "238/238 [==============================] - 2s 10ms/step - loss: 0.1549 - accuracy: 0.9484\n",
            "Epoch 4/20\n",
            "238/238 [==============================] - 2s 10ms/step - loss: 0.1539 - accuracy: 0.9506\n",
            "Epoch 5/20\n",
            "238/238 [==============================] - 2s 10ms/step - loss: 0.1446 - accuracy: 0.9527\n",
            "Epoch 6/20\n",
            "238/238 [==============================] - 2s 10ms/step - loss: 0.1355 - accuracy: 0.9544\n",
            "Epoch 7/20\n",
            "238/238 [==============================] - 2s 10ms/step - loss: 0.1277 - accuracy: 0.9581\n",
            "Epoch 8/20\n",
            "238/238 [==============================] - 2s 10ms/step - loss: 0.1261 - accuracy: 0.9567\n",
            "Epoch 9/20\n",
            "238/238 [==============================] - 2s 10ms/step - loss: 0.1225 - accuracy: 0.9626\n",
            "Epoch 10/20\n",
            "238/238 [==============================] - 2s 10ms/step - loss: 0.1162 - accuracy: 0.9611\n",
            "Epoch 11/20\n",
            "238/238 [==============================] - 2s 10ms/step - loss: 0.1113 - accuracy: 0.9637\n",
            "Epoch 12/20\n",
            "238/238 [==============================] - 2s 10ms/step - loss: 0.1211 - accuracy: 0.9635\n",
            "Epoch 13/20\n",
            "238/238 [==============================] - 2s 10ms/step - loss: 0.1183 - accuracy: 0.9616\n",
            "Epoch 14/20\n",
            "238/238 [==============================] - 2s 10ms/step - loss: 0.1148 - accuracy: 0.9623\n",
            "Epoch 15/20\n",
            "238/238 [==============================] - 2s 10ms/step - loss: 0.1124 - accuracy: 0.9631\n",
            "Epoch 16/20\n",
            "238/238 [==============================] - 2s 10ms/step - loss: 0.1136 - accuracy: 0.9653\n",
            "Epoch 17/20\n",
            "238/238 [==============================] - 2s 10ms/step - loss: 0.1139 - accuracy: 0.9644\n",
            "Epoch 18/20\n",
            "238/238 [==============================] - 2s 10ms/step - loss: 0.1038 - accuracy: 0.9670\n",
            "Epoch 19/20\n",
            "238/238 [==============================] - 2s 10ms/step - loss: 0.1095 - accuracy: 0.9653\n",
            "Epoch 20/20\n",
            "238/238 [==============================] - 2s 10ms/step - loss: 0.1073 - accuracy: 0.9647\n"
          ],
          "name": "stdout"
        },
        {
          "output_type": "execute_result",
          "data": {
            "text/plain": [
              "<tensorflow.python.keras.callbacks.History at 0x7fe5d61bc8d0>"
            ]
          },
          "metadata": {
            "tags": []
          },
          "execution_count": 115
        }
      ]
    },
    {
      "cell_type": "code",
      "metadata": {
        "id": "lx_WVAJymFAY",
        "colab_type": "code",
        "colab": {
          "base_uri": "https://localhost:8080/",
          "height": 206
        },
        "outputId": "fb5c2770-fcf3-4ba7-be4f-18aae85cd3ab"
      },
      "source": [
        "kaggle_preds = model.predict_classes(padded_vecs_test)\n",
        "\n",
        "result = df_test[['id']]\n",
        "result['target'] = kaggle_preds\n",
        "result.head()"
      ],
      "execution_count": null,
      "outputs": [
        {
          "output_type": "execute_result",
          "data": {
            "text/html": [
              "<div>\n",
              "<style scoped>\n",
              "    .dataframe tbody tr th:only-of-type {\n",
              "        vertical-align: middle;\n",
              "    }\n",
              "\n",
              "    .dataframe tbody tr th {\n",
              "        vertical-align: top;\n",
              "    }\n",
              "\n",
              "    .dataframe thead th {\n",
              "        text-align: right;\n",
              "    }\n",
              "</style>\n",
              "<table border=\"1\" class=\"dataframe\">\n",
              "  <thead>\n",
              "    <tr style=\"text-align: right;\">\n",
              "      <th></th>\n",
              "      <th>id</th>\n",
              "      <th>target</th>\n",
              "    </tr>\n",
              "  </thead>\n",
              "  <tbody>\n",
              "    <tr>\n",
              "      <th>0</th>\n",
              "      <td>0</td>\n",
              "      <td>1</td>\n",
              "    </tr>\n",
              "    <tr>\n",
              "      <th>1</th>\n",
              "      <td>2</td>\n",
              "      <td>1</td>\n",
              "    </tr>\n",
              "    <tr>\n",
              "      <th>2</th>\n",
              "      <td>3</td>\n",
              "      <td>1</td>\n",
              "    </tr>\n",
              "    <tr>\n",
              "      <th>3</th>\n",
              "      <td>9</td>\n",
              "      <td>1</td>\n",
              "    </tr>\n",
              "    <tr>\n",
              "      <th>4</th>\n",
              "      <td>11</td>\n",
              "      <td>1</td>\n",
              "    </tr>\n",
              "  </tbody>\n",
              "</table>\n",
              "</div>"
            ],
            "text/plain": [
              "   id  target\n",
              "0   0       1\n",
              "1   2       1\n",
              "2   3       1\n",
              "3   9       1\n",
              "4  11       1"
            ]
          },
          "metadata": {
            "tags": []
          },
          "execution_count": 116
        }
      ]
    },
    {
      "cell_type": "code",
      "metadata": {
        "id": "Ty_Jl2tFmG2Q",
        "colab_type": "code",
        "colab": {}
      },
      "source": [
        "now = datetime.now(tz=None).strftime('%Y-%m-%dT%H-%M-%S')\n",
        "result.to_csv(f'prediction_{now}.csv', encoding='utf-8', index=False)"
      ],
      "execution_count": null,
      "outputs": []
    },
    {
      "cell_type": "code",
      "metadata": {
        "id": "xDyyIMwrq_A4",
        "colab_type": "code",
        "colab": {
          "base_uri": "https://localhost:8080/",
          "height": 35
        },
        "outputId": "7821afe4-86e3-4989-8095-6a5b8cab8697"
      },
      "source": [
        "X_train.shape"
      ],
      "execution_count": null,
      "outputs": [
        {
          "output_type": "execute_result",
          "data": {
            "text/plain": [
              "(6090, 25)"
            ]
          },
          "metadata": {
            "tags": []
          },
          "execution_count": 27
        }
      ]
    },
    {
      "cell_type": "markdown",
      "metadata": {
        "id": "N6a4jO_PpDGp",
        "colab_type": "text"
      },
      "source": [
        "# Conv1D con más dropout"
      ]
    },
    {
      "cell_type": "code",
      "metadata": {
        "id": "9IR-1osFpEbx",
        "colab_type": "code",
        "colab": {
          "base_uri": "https://localhost:8080/",
          "height": 421
        },
        "outputId": "7190821a-bdaa-4ec7-a5ad-3b7e3ea005c4"
      },
      "source": [
        "# Este modelo sacó 0.81029 en Kaggle.\n",
        "# Pasamos a la api funcional para poder meter filtros en paralelo.\n",
        "n_filters = 100\n",
        "\n",
        "inputs = Input(shape=(max_padding))\n",
        "emb = Embedding(input_dim=vocabulary_size, output_dim=embedding_dim, weights=[embedding_matrix], input_length=max_padding, trainable=False)(inputs)\n",
        "drop = Dropout(0.5)(emb)\n",
        "\n",
        "conv1 = Conv1D(n_filters, 5, padding='same', activation='relu')(drop)\n",
        "conv1 = GlobalMaxPooling1D()(conv1)\n",
        "conv1 = Dropout(0.5)(conv1)\n",
        "\n",
        "out = Dense(1, activation='sigmoid')(conv1)\n",
        "\n",
        "model = Model(inputs, out)\n",
        "model.compile(loss='binary_crossentropy', optimizer='adam', metrics=['accuracy'])\n",
        "model.summary()"
      ],
      "execution_count": null,
      "outputs": [
        {
          "output_type": "stream",
          "text": [
            "Model: \"functional_52\"\n",
            "_________________________________________________________________\n",
            "Layer (type)                 Output Shape              Param #   \n",
            "=================================================================\n",
            "input_34 (InputLayer)        [(None, 25)]              0         \n",
            "_________________________________________________________________\n",
            "embedding_35 (Embedding)     (None, 25, 200)           3080600   \n",
            "_________________________________________________________________\n",
            "dropout_17 (Dropout)         (None, 25, 200)           0         \n",
            "_________________________________________________________________\n",
            "conv1d_88 (Conv1D)           (None, 25, 100)           100100    \n",
            "_________________________________________________________________\n",
            "global_max_pooling1d_61 (Glo (None, 100)               0         \n",
            "_________________________________________________________________\n",
            "dropout_18 (Dropout)         (None, 100)               0         \n",
            "_________________________________________________________________\n",
            "dense_42 (Dense)             (None, 1)                 101       \n",
            "=================================================================\n",
            "Total params: 3,180,801\n",
            "Trainable params: 100,201\n",
            "Non-trainable params: 3,080,600\n",
            "_________________________________________________________________\n"
          ],
          "name": "stdout"
        }
      ]
    },
    {
      "cell_type": "code",
      "metadata": {
        "id": "fMii4NuR3gGZ",
        "colab_type": "code",
        "colab": {
          "base_uri": "https://localhost:8080/",
          "height": 661
        },
        "outputId": "7885cf34-6e52-4297-e136-7b1cef98931e"
      },
      "source": [
        "plot_model(model)"
      ],
      "execution_count": null,
      "outputs": [
        {
          "output_type": "execute_result",
          "data": {
            "image/png": "[encoded data removed]",
            "text/plain": [
              "<IPython.core.display.Image object>"
            ]
          },
          "metadata": {
            "tags": []
          },
          "execution_count": 101
        }
      ]
    },
    {
      "cell_type": "code",
      "metadata": {
        "id": "lUziuEjKutaW",
        "colab_type": "code",
        "colab": {
          "base_uri": "https://localhost:8080/",
          "height": 770
        },
        "outputId": "59b32370-9c6e-4fbf-cf7a-dba79d33e96f"
      },
      "source": [
        "epochs = 20\n",
        "model.fit(X_train, y_train, epochs=epochs, validation_data=(X_test, y_test))"
      ],
      "execution_count": null,
      "outputs": [
        {
          "output_type": "stream",
          "text": [
            "Epoch 1/20\n",
            "191/191 [==============================] - 3s 17ms/step - loss: 0.6377 - accuracy: 0.6869 - val_loss: 0.4505 - val_accuracy: 0.8142\n",
            "Epoch 2/20\n",
            "191/191 [==============================] - 3s 16ms/step - loss: 0.5139 - accuracy: 0.7571 - val_loss: 0.4538 - val_accuracy: 0.8102\n",
            "Epoch 3/20\n",
            "191/191 [==============================] - 3s 17ms/step - loss: 0.4806 - accuracy: 0.7795 - val_loss: 0.4493 - val_accuracy: 0.8024\n",
            "Epoch 4/20\n",
            "191/191 [==============================] - 3s 17ms/step - loss: 0.4588 - accuracy: 0.7887 - val_loss: 0.4375 - val_accuracy: 0.8129\n",
            "Epoch 5/20\n",
            "191/191 [==============================] - 3s 16ms/step - loss: 0.4605 - accuracy: 0.7867 - val_loss: 0.4444 - val_accuracy: 0.8129\n",
            "Epoch 6/20\n",
            "191/191 [==============================] - 3s 16ms/step - loss: 0.4414 - accuracy: 0.7984 - val_loss: 0.4382 - val_accuracy: 0.8175\n",
            "Epoch 7/20\n",
            "191/191 [==============================] - 3s 16ms/step - loss: 0.4249 - accuracy: 0.8131 - val_loss: 0.4294 - val_accuracy: 0.8155\n",
            "Epoch 8/20\n",
            "191/191 [==============================] - 3s 16ms/step - loss: 0.4315 - accuracy: 0.8010 - val_loss: 0.4356 - val_accuracy: 0.8162\n",
            "Epoch 9/20\n",
            "191/191 [==============================] - 3s 17ms/step - loss: 0.4275 - accuracy: 0.8100 - val_loss: 0.4321 - val_accuracy: 0.8168\n",
            "Epoch 10/20\n",
            "191/191 [==============================] - 3s 17ms/step - loss: 0.4148 - accuracy: 0.8138 - val_loss: 0.4315 - val_accuracy: 0.8201\n",
            "Epoch 11/20\n",
            "191/191 [==============================] - 3s 17ms/step - loss: 0.4016 - accuracy: 0.8222 - val_loss: 0.4305 - val_accuracy: 0.8188\n",
            "Epoch 12/20\n",
            "191/191 [==============================] - 3s 17ms/step - loss: 0.3953 - accuracy: 0.8259 - val_loss: 0.4322 - val_accuracy: 0.8194\n",
            "Epoch 13/20\n",
            "191/191 [==============================] - 3s 17ms/step - loss: 0.4090 - accuracy: 0.8172 - val_loss: 0.4335 - val_accuracy: 0.8194\n",
            "Epoch 14/20\n",
            "191/191 [==============================] - 3s 17ms/step - loss: 0.3917 - accuracy: 0.8305 - val_loss: 0.4327 - val_accuracy: 0.8188\n",
            "Epoch 15/20\n",
            "191/191 [==============================] - 3s 17ms/step - loss: 0.3846 - accuracy: 0.8287 - val_loss: 0.4306 - val_accuracy: 0.8181\n",
            "Epoch 16/20\n",
            "191/191 [==============================] - 3s 17ms/step - loss: 0.3839 - accuracy: 0.8291 - val_loss: 0.4317 - val_accuracy: 0.8188\n",
            "Epoch 17/20\n",
            "191/191 [==============================] - 3s 16ms/step - loss: 0.3758 - accuracy: 0.8363 - val_loss: 0.4307 - val_accuracy: 0.8162\n",
            "Epoch 18/20\n",
            "191/191 [==============================] - 3s 16ms/step - loss: 0.3711 - accuracy: 0.8417 - val_loss: 0.4314 - val_accuracy: 0.8168\n",
            "Epoch 19/20\n",
            "191/191 [==============================] - 3s 16ms/step - loss: 0.3696 - accuracy: 0.8353 - val_loss: 0.4349 - val_accuracy: 0.8096\n",
            "Epoch 20/20\n",
            "191/191 [==============================] - 3s 16ms/step - loss: 0.3670 - accuracy: 0.8358 - val_loss: 0.4309 - val_accuracy: 0.8221\n"
          ],
          "name": "stdout"
        },
        {
          "output_type": "execute_result",
          "data": {
            "text/plain": [
              "<tensorflow.python.keras.callbacks.History at 0x7fce3af07b00>"
            ]
          },
          "metadata": {
            "tags": []
          },
          "execution_count": 102
        }
      ]
    },
    {
      "cell_type": "code",
      "metadata": {
        "id": "2JnMwaTov9WH",
        "colab_type": "code",
        "colab": {
          "base_uri": "https://localhost:8080/",
          "height": 164
        },
        "outputId": "af3ac251-54a6-45f9-83b5-ef0ac3879c05"
      },
      "source": [
        "predictions = model.predict(X_test)\n",
        "y_pred = [1 if pred > 0.5 else 0 for pred in predictions]\n",
        "metrics(y_pred, y_test)"
      ],
      "execution_count": null,
      "outputs": [
        {
          "output_type": "stream",
          "text": [
            "Verdaderos Negativos: 768\n",
            "Falsos Negativos: 185\n",
            "Verdaderos Positivos: 484\n",
            "Falsos Positivos: 86\n",
            "\n",
            "precision score: 0.8491228070175438\n",
            "recall score: 0.7234678624813154\n",
            "f1 score: 0.7812752219531881\n"
          ],
          "name": "stdout"
        }
      ]
    },
    {
      "cell_type": "code",
      "metadata": {
        "id": "QzbnQM-_trTE",
        "colab_type": "code",
        "colab": {
          "base_uri": "https://localhost:8080/",
          "height": 35
        },
        "outputId": "1654bc69-b8b6-4c12-ac13-2ec6ec4a49f0"
      },
      "source": [
        "# Entrenamos la red con el total del set de datos y luego hacemos una predicción para la competencia.\n",
        "sequences_test = tokenizer.texts_to_sequences(test_tweets)\n",
        "padded_vecs_test = pad_sequences(sequences_test, maxlen=max_padding, padding='post')\n",
        "model.fit(padded_vecs_train, train_target, epochs=epochs, verbose=False)"
      ],
      "execution_count": null,
      "outputs": [
        {
          "output_type": "execute_result",
          "data": {
            "text/plain": [
              "<tensorflow.python.keras.callbacks.History at 0x7fce32a729b0>"
            ]
          },
          "metadata": {
            "tags": []
          },
          "execution_count": 104
        }
      ]
    },
    {
      "cell_type": "code",
      "metadata": {
        "id": "qR7Mz6-_C3Mi",
        "colab_type": "code",
        "colab": {
          "base_uri": "https://localhost:8080/",
          "height": 206
        },
        "outputId": "a16a4cd9-e92b-432e-dca9-92917bd9a370"
      },
      "source": [
        "k_preds_prob = model.predict(padded_vecs_test)\n",
        "k_preds = [1 if pred > 0.5 else 0 for pred in k_preds_prob]\n",
        "\n",
        "results = df_test[['id']]\n",
        "results['target'] = k_preds\n",
        "results.head()"
      ],
      "execution_count": null,
      "outputs": [
        {
          "output_type": "execute_result",
          "data": {
            "text/html": [
              "<div>\n",
              "<style scoped>\n",
              "    .dataframe tbody tr th:only-of-type {\n",
              "        vertical-align: middle;\n",
              "    }\n",
              "\n",
              "    .dataframe tbody tr th {\n",
              "        vertical-align: top;\n",
              "    }\n",
              "\n",
              "    .dataframe thead th {\n",
              "        text-align: right;\n",
              "    }\n",
              "</style>\n",
              "<table border=\"1\" class=\"dataframe\">\n",
              "  <thead>\n",
              "    <tr style=\"text-align: right;\">\n",
              "      <th></th>\n",
              "      <th>id</th>\n",
              "      <th>target</th>\n",
              "    </tr>\n",
              "  </thead>\n",
              "  <tbody>\n",
              "    <tr>\n",
              "      <th>0</th>\n",
              "      <td>0</td>\n",
              "      <td>1</td>\n",
              "    </tr>\n",
              "    <tr>\n",
              "      <th>1</th>\n",
              "      <td>2</td>\n",
              "      <td>1</td>\n",
              "    </tr>\n",
              "    <tr>\n",
              "      <th>2</th>\n",
              "      <td>3</td>\n",
              "      <td>1</td>\n",
              "    </tr>\n",
              "    <tr>\n",
              "      <th>3</th>\n",
              "      <td>9</td>\n",
              "      <td>1</td>\n",
              "    </tr>\n",
              "    <tr>\n",
              "      <th>4</th>\n",
              "      <td>11</td>\n",
              "      <td>1</td>\n",
              "    </tr>\n",
              "  </tbody>\n",
              "</table>\n",
              "</div>"
            ],
            "text/plain": [
              "   id  target\n",
              "0   0       1\n",
              "1   2       1\n",
              "2   3       1\n",
              "3   9       1\n",
              "4  11       1"
            ]
          },
          "metadata": {
            "tags": []
          },
          "execution_count": 105
        }
      ]
    },
    {
      "cell_type": "code",
      "metadata": {
        "id": "uXrisfueDRWC",
        "colab_type": "code",
        "colab": {}
      },
      "source": [
        "results.to_csv('conv1d-glove-twitter.csv', index=False)"
      ],
      "execution_count": null,
      "outputs": []
    },
    {
      "cell_type": "markdown",
      "metadata": {
        "id": "peQoP_GUHyZc",
        "colab_type": "text"
      },
      "source": [
        "# Conv1d con filtros de distinto tamaño y una capa oculta."
      ]
    },
    {
      "cell_type": "code",
      "metadata": {
        "id": "gttJAz-SH3a_",
        "colab_type": "code",
        "colab": {
          "base_uri": "https://localhost:8080/",
          "height": 825
        },
        "outputId": "a1871afd-7e53-43ce-f26a-501b83976ede"
      },
      "source": [
        "# Este modelo sacó 0.81274 en Kaggle.\n",
        "# Pasamos a la api funcional para poder meter filtros en paralelo.\n",
        "# No hay justificación para el dropout en la capa de Embedding, it just worked.\n",
        "n_filters = 200\n",
        "\n",
        "inputs = Input(shape=(max_padding))\n",
        "emb = Embedding(input_dim=vocabulary_size, output_dim=embedding_dim, weights=[embedding_matrix], input_length=max_padding, trainable=False)(inputs)\n",
        "drop = Dropout(0.5)(emb)\n",
        "\n",
        "conv1 = Conv1D(n_filters, 5, padding='same', activation='relu')(drop)\n",
        "conv1 = GlobalMaxPooling1D()(conv1)\n",
        "conv1 = Dropout(0.5)(conv1)\n",
        "\n",
        "conv2 = Conv1D(n_filters, 4, padding='same', activation='relu')(drop)\n",
        "conv2 =  GlobalMaxPooling1D()(conv2)\n",
        "conv2 = Dropout(0.5)(conv2)\n",
        "\n",
        "conv3 = Conv1D(n_filters, 3, padding='same', activation='relu')(drop)\n",
        "conv3 = GlobalMaxPooling1D()(conv3)\n",
        "conv3 = Dropout(0.5)(conv3)\n",
        "\n",
        "concat = concatenate([conv1, conv2, conv3], axis=1)\n",
        "drop_concat = Dropout(0.25)(concat)\n",
        "out = Dense(128, activation='relu')(drop_concat)\n",
        "out = Dropout(0.25)(out)\n",
        "out = Dense(1, activation='sigmoid')(out)\n",
        "\n",
        "model = Model(inputs, out)\n",
        "model.compile(loss='binary_crossentropy', optimizer='adam', metrics=['accuracy'])\n",
        "model.summary()"
      ],
      "execution_count": null,
      "outputs": [
        {
          "output_type": "stream",
          "text": [
            "Model: \"functional_70\"\n",
            "__________________________________________________________________________________________________\n",
            "Layer (type)                    Output Shape         Param #     Connected to                     \n",
            "==================================================================================================\n",
            "input_43 (InputLayer)           [(None, 25)]         0                                            \n",
            "__________________________________________________________________________________________________\n",
            "embedding_44 (Embedding)        (None, 25, 200)      3080600     input_43[0][0]                   \n",
            "__________________________________________________________________________________________________\n",
            "dropout_47 (Dropout)            (None, 25, 200)      0           embedding_44[0][0]               \n",
            "__________________________________________________________________________________________________\n",
            "conv1d_108 (Conv1D)             (None, 25, 200)      200200      dropout_47[0][0]                 \n",
            "__________________________________________________________________________________________________\n",
            "conv1d_109 (Conv1D)             (None, 25, 200)      160200      dropout_47[0][0]                 \n",
            "__________________________________________________________________________________________________\n",
            "conv1d_110 (Conv1D)             (None, 25, 200)      120200      dropout_47[0][0]                 \n",
            "__________________________________________________________________________________________________\n",
            "global_max_pooling1d_81 (Global (None, 200)          0           conv1d_108[0][0]                 \n",
            "__________________________________________________________________________________________________\n",
            "global_max_pooling1d_82 (Global (None, 200)          0           conv1d_109[0][0]                 \n",
            "__________________________________________________________________________________________________\n",
            "global_max_pooling1d_83 (Global (None, 200)          0           conv1d_110[0][0]                 \n",
            "__________________________________________________________________________________________________\n",
            "dropout_48 (Dropout)            (None, 200)          0           global_max_pooling1d_81[0][0]    \n",
            "__________________________________________________________________________________________________\n",
            "dropout_49 (Dropout)            (None, 200)          0           global_max_pooling1d_82[0][0]    \n",
            "__________________________________________________________________________________________________\n",
            "dropout_50 (Dropout)            (None, 200)          0           global_max_pooling1d_83[0][0]    \n",
            "__________________________________________________________________________________________________\n",
            "concatenate_29 (Concatenate)    (None, 600)          0           dropout_48[0][0]                 \n",
            "                                                                 dropout_49[0][0]                 \n",
            "                                                                 dropout_50[0][0]                 \n",
            "__________________________________________________________________________________________________\n",
            "dropout_51 (Dropout)            (None, 600)          0           concatenate_29[0][0]             \n",
            "__________________________________________________________________________________________________\n",
            "dense_53 (Dense)                (None, 128)          76928       dropout_51[0][0]                 \n",
            "__________________________________________________________________________________________________\n",
            "dropout_52 (Dropout)            (None, 128)          0           dense_53[0][0]                   \n",
            "__________________________________________________________________________________________________\n",
            "dense_54 (Dense)                (None, 1)            129         dropout_52[0][0]                 \n",
            "==================================================================================================\n",
            "Total params: 3,638,257\n",
            "Trainable params: 557,657\n",
            "Non-trainable params: 3,080,600\n",
            "__________________________________________________________________________________________________\n"
          ],
          "name": "stdout"
        }
      ]
    },
    {
      "cell_type": "code",
      "metadata": {
        "id": "aSyNi3hqI9P8",
        "colab_type": "code",
        "colab": {
          "base_uri": "https://localhost:8080/",
          "height": 1000
        },
        "outputId": "adf84187-ac06-4522-b240-96aab8022192"
      },
      "source": [
        "plot_model(model)"
      ],
      "execution_count": null,
      "outputs": [
        {
          "output_type": "execute_result",
          "data": {
            "image/png": "[encoded data removed]",
            "text/plain": [
              "<IPython.core.display.Image object>"
            ]
          },
          "metadata": {
            "tags": []
          },
          "execution_count": 138
        }
      ]
    },
    {
      "cell_type": "code",
      "metadata": {
        "id": "aho7Vc_4I_I4",
        "colab_type": "code",
        "colab": {
          "base_uri": "https://localhost:8080/",
          "height": 770
        },
        "outputId": "4f2cc83f-a7f8-454a-b4c4-2fd74255bc10"
      },
      "source": [
        "epochs = 20\n",
        "model.fit(X_train, y_train, epochs=epochs, validation_data=(X_test, y_test))"
      ],
      "execution_count": null,
      "outputs": [
        {
          "output_type": "stream",
          "text": [
            "Epoch 1/20\n",
            "191/191 [==============================] - 9s 47ms/step - loss: 0.6127 - accuracy: 0.6911 - val_loss: 0.5058 - val_accuracy: 0.7932\n",
            "Epoch 2/20\n",
            "191/191 [==============================] - 9s 46ms/step - loss: 0.5202 - accuracy: 0.7514 - val_loss: 0.4826 - val_accuracy: 0.7859\n",
            "Epoch 3/20\n",
            "191/191 [==============================] - 9s 46ms/step - loss: 0.4935 - accuracy: 0.7755 - val_loss: 0.4629 - val_accuracy: 0.8116\n",
            "Epoch 4/20\n",
            "191/191 [==============================] - 9s 46ms/step - loss: 0.4859 - accuracy: 0.7741 - val_loss: 0.4545 - val_accuracy: 0.8116\n",
            "Epoch 5/20\n",
            "191/191 [==============================] - 9s 46ms/step - loss: 0.4713 - accuracy: 0.7831 - val_loss: 0.4485 - val_accuracy: 0.8043\n",
            "Epoch 6/20\n",
            "191/191 [==============================] - 9s 45ms/step - loss: 0.4500 - accuracy: 0.7862 - val_loss: 0.4377 - val_accuracy: 0.8142\n",
            "Epoch 7/20\n",
            "191/191 [==============================] - 9s 45ms/step - loss: 0.4504 - accuracy: 0.7993 - val_loss: 0.4397 - val_accuracy: 0.8175\n",
            "Epoch 8/20\n",
            "191/191 [==============================] - 9s 46ms/step - loss: 0.4456 - accuracy: 0.7989 - val_loss: 0.4249 - val_accuracy: 0.8247\n",
            "Epoch 9/20\n",
            "191/191 [==============================] - 9s 46ms/step - loss: 0.4296 - accuracy: 0.8057 - val_loss: 0.4239 - val_accuracy: 0.8227\n",
            "Epoch 10/20\n",
            "191/191 [==============================] - 9s 46ms/step - loss: 0.4314 - accuracy: 0.8087 - val_loss: 0.4211 - val_accuracy: 0.8214\n",
            "Epoch 11/20\n",
            "191/191 [==============================] - 9s 46ms/step - loss: 0.4171 - accuracy: 0.8136 - val_loss: 0.4281 - val_accuracy: 0.8201\n",
            "Epoch 12/20\n",
            "191/191 [==============================] - 9s 46ms/step - loss: 0.4138 - accuracy: 0.8153 - val_loss: 0.4262 - val_accuracy: 0.8240\n",
            "Epoch 13/20\n",
            "191/191 [==============================] - 9s 46ms/step - loss: 0.4082 - accuracy: 0.8164 - val_loss: 0.4208 - val_accuracy: 0.8207\n",
            "Epoch 14/20\n",
            "191/191 [==============================] - 9s 46ms/step - loss: 0.3992 - accuracy: 0.8209 - val_loss: 0.4206 - val_accuracy: 0.8280\n",
            "Epoch 15/20\n",
            "191/191 [==============================] - 9s 46ms/step - loss: 0.3968 - accuracy: 0.8141 - val_loss: 0.4219 - val_accuracy: 0.8247\n",
            "Epoch 16/20\n",
            "191/191 [==============================] - 9s 46ms/step - loss: 0.3812 - accuracy: 0.8299 - val_loss: 0.4197 - val_accuracy: 0.8273\n",
            "Epoch 17/20\n",
            "191/191 [==============================] - 9s 46ms/step - loss: 0.3864 - accuracy: 0.8268 - val_loss: 0.4186 - val_accuracy: 0.8267\n",
            "Epoch 18/20\n",
            "191/191 [==============================] - 9s 46ms/step - loss: 0.3736 - accuracy: 0.8300 - val_loss: 0.4313 - val_accuracy: 0.8168\n",
            "Epoch 19/20\n",
            "191/191 [==============================] - 9s 46ms/step - loss: 0.3694 - accuracy: 0.8379 - val_loss: 0.4200 - val_accuracy: 0.8201\n",
            "Epoch 20/20\n",
            "191/191 [==============================] - 9s 46ms/step - loss: 0.3706 - accuracy: 0.8365 - val_loss: 0.4233 - val_accuracy: 0.8240\n"
          ],
          "name": "stdout"
        },
        {
          "output_type": "execute_result",
          "data": {
            "text/plain": [
              "<tensorflow.python.keras.callbacks.History at 0x7fce1e5b7eb8>"
            ]
          },
          "metadata": {
            "tags": []
          },
          "execution_count": 139
        }
      ]
    },
    {
      "cell_type": "code",
      "metadata": {
        "id": "TRCuk8trJuJI",
        "colab_type": "code",
        "colab": {
          "base_uri": "https://localhost:8080/",
          "height": 164
        },
        "outputId": "10beee63-ef38-45a4-ca4b-db08009596d4"
      },
      "source": [
        "predictions = model.predict(X_test)\n",
        "y_pred = [1 if pred > 0.5 else 0 for pred in predictions]\n",
        "metrics(y_pred, y_test)"
      ],
      "execution_count": null,
      "outputs": [
        {
          "output_type": "stream",
          "text": [
            "Verdaderos Negativos: 749\n",
            "Falsos Negativos: 163\n",
            "Verdaderos Positivos: 506\n",
            "Falsos Positivos: 105\n",
            "\n",
            "precision score: 0.8281505728314239\n",
            "recall score: 0.7563527653213752\n",
            "f1 score: 0.790625\n"
          ],
          "name": "stdout"
        }
      ]
    },
    {
      "cell_type": "code",
      "metadata": {
        "id": "LFEvJyfTRMiQ",
        "colab_type": "code",
        "colab": {
          "base_uri": "https://localhost:8080/",
          "height": 35
        },
        "outputId": "4f6daf6c-28f8-43be-c490-65038482d081"
      },
      "source": [
        "# Entrenamos la red con el total del set de datos y luego hacemos una predicción para la competencia.\n",
        "sequences_test = tokenizer.texts_to_sequences(test_tweets)\n",
        "padded_vecs_test = pad_sequences(sequences_test, maxlen=max_padding, padding='post')\n",
        "model.fit(padded_vecs_train, train_target, epochs=epochs, verbose=False)"
      ],
      "execution_count": null,
      "outputs": [
        {
          "output_type": "execute_result",
          "data": {
            "text/plain": [
              "<tensorflow.python.keras.callbacks.History at 0x7fce32b02c18>"
            ]
          },
          "metadata": {
            "tags": []
          },
          "execution_count": 141
        }
      ]
    },
    {
      "cell_type": "code",
      "metadata": {
        "id": "d2aClQrwRVAt",
        "colab_type": "code",
        "colab": {}
      },
      "source": [
        "k_preds_prob = model.predict(padded_vecs_test)\n",
        "k_preds = [1 if pred > 0.5 else 0 for pred in k_preds_prob]\n",
        "\n",
        "results = df_test[['id']]\n",
        "results['target'] = k_preds\n",
        "results.head()\n",
        "results.to_csv('conv1d-multiple-filters-glove-twitter.csv', index=False)"
      ],
      "execution_count": null,
      "outputs": []
    },
    {
      "cell_type": "markdown",
      "metadata": {
        "id": "I2evlCHDUDkK",
        "colab_type": "text"
      },
      "source": [
        "# Conv1D con múltiples filtros y una capa oculta, electric boogaloo.\n",
        "\n",
        "Vamos a agregar la keyword de cada tweet al texto del mismo como si fuera una palabra más.\n",
        "\n",
        "La idea es agregar al tweet el embedding correspondiente a la keyword (si la hubiera).\n",
        "\n",
        "Por lo tanto vamos a aumentar el max_padding de forma acorde."
      ]
    },
    {
      "cell_type": "code",
      "metadata": {
        "id": "4p_eSVyHz_WD",
        "colab_type": "code",
        "colab": {
          "base_uri": "https://localhost:8080/",
          "height": 237
        },
        "outputId": "86f98f32-82e1-4a11-e2e5-061cec7dea44"
      },
      "source": [
        "df_train['keyword'] = read_train['keyword']\n",
        "df_test['keyword'] = read_test['keyword']"
      ],
      "execution_count": null,
      "outputs": [
        {
          "output_type": "stream",
          "text": [
            "/usr/local/lib/python3.6/dist-packages/ipykernel_launcher.py:1: SettingWithCopyWarning: \n",
            "A value is trying to be set on a copy of a slice from a DataFrame.\n",
            "Try using .loc[row_indexer,col_indexer] = value instead\n",
            "\n",
            "See the caveats in the documentation: https://pandas.pydata.org/pandas-docs/stable/user_guide/indexing.html#returning-a-view-versus-a-copy\n",
            "  \"\"\"Entry point for launching an IPython kernel.\n",
            "/usr/local/lib/python3.6/dist-packages/ipykernel_launcher.py:2: SettingWithCopyWarning: \n",
            "A value is trying to be set on a copy of a slice from a DataFrame.\n",
            "Try using .loc[row_indexer,col_indexer] = value instead\n",
            "\n",
            "See the caveats in the documentation: https://pandas.pydata.org/pandas-docs/stable/user_guide/indexing.html#returning-a-view-versus-a-copy\n",
            "  \n"
          ],
          "name": "stderr"
        }
      ]
    },
    {
      "cell_type": "code",
      "metadata": {
        "id": "2IiUnvfx0uSU",
        "colab_type": "code",
        "colab": {
          "base_uri": "https://localhost:8080/",
          "height": 329
        },
        "outputId": "977375c1-5824-4d44-9e95-48bfcd0df7f9"
      },
      "source": [
        "df_train['keyword'].fillna(\"\", inplace=True)\n",
        "df_test['keyword'].fillna(\"\", inplace=True)\n",
        "df_train['keyword'].value_counts()"
      ],
      "execution_count": null,
      "outputs": [
        {
          "output_type": "stream",
          "text": [
            "/usr/local/lib/python3.6/dist-packages/pandas/core/generic.py:6245: SettingWithCopyWarning: \n",
            "A value is trying to be set on a copy of a slice from a DataFrame\n",
            "\n",
            "See the caveats in the documentation: https://pandas.pydata.org/pandas-docs/stable/user_guide/indexing.html#returning-a-view-versus-a-copy\n",
            "  self._update_inplace(new_data)\n"
          ],
          "name": "stderr"
        },
        {
          "output_type": "execute_result",
          "data": {
            "text/plain": [
              "                         61\n",
              "fatalities               45\n",
              "deluge                   42\n",
              "armageddon               42\n",
              "damage                   41\n",
              "                         ..\n",
              "forest%20fire            19\n",
              "epicentre                12\n",
              "threat                   11\n",
              "inundation               10\n",
              "radiation%20emergency     9\n",
              "Name: keyword, Length: 222, dtype: int64"
            ]
          },
          "metadata": {
            "tags": []
          },
          "execution_count": 261
        }
      ]
    },
    {
      "cell_type": "code",
      "metadata": {
        "id": "z6h7x8rG2o_z",
        "colab_type": "code",
        "colab": {}
      },
      "source": [
        "df_train['keyword'] = df_train['keyword'].apply(lambda x: x.replace(\"%20\", \" \"))\n",
        "df_test['keyword'] = df_test['keyword'].apply(lambda x: x.replace(\"%20\", \" \"))\n",
        "df_train['text'] = df_train['text'] + \" \" + df_train['keyword']\n",
        "df_test['text'] = df_test['text'] + \" \" + df_test['keyword']"
      ],
      "execution_count": null,
      "outputs": []
    },
    {
      "cell_type": "code",
      "metadata": {
        "id": "CvswqyZJ33ip",
        "colab_type": "code",
        "colab": {
          "base_uri": "https://localhost:8080/",
          "height": 35
        },
        "outputId": "10ddaee9-ae9a-41ea-ebb1-2e0b4f6d7fb2"
      },
      "source": [
        "train_tweets = df_train['text'].tolist()\n",
        "train_target = df_train['target']\n",
        "test_tweets = df_test['text'].tolist()\n",
        "\n",
        "tokenizer = Tokenizer()\n",
        "tokenizer.fit_on_texts(train_tweets)\n",
        "vocabulary_size = len(tokenizer.word_index) + 1\n",
        "\n",
        "sequences_train = tokenizer.texts_to_sequences(train_tweets)\n",
        "sequences_test = tokenizer.texts_to_sequences(test_tweets)\n",
        "\n",
        "max_padding = 30\n",
        "padded_vecs_train = pad_sequences(sequences_train, maxlen=max_padding, padding='post')\n",
        "padded_vecs_test = pad_sequences(sequences_test, maxlen=max_padding, padding='post')\n",
        "\n",
        "# Ahora vamos a crear una matriz que tendrá los embeddings de GloVe\n",
        "# correspondientes a cada palabra de nuestro vocabulario, incluyendo los keywords\n",
        "# Esto se lo pasaremos como pesos a la capa de Embedding del modelo a entrenar.\n",
        "embedding_dim = 200\n",
        "embedding_matrix = np.zeros((vocabulary_size, embedding_dim))\n",
        "for word, i in tokenizer.word_index.items():\n",
        "    embedding_vector = glove_dict.get(word, None)\n",
        "    if embedding_vector is not None:\n",
        "        embedding_matrix[i] = embedding_vector\n",
        "\n",
        "X_train, X_test, y_train, y_test = train_test_split(padded_vecs_train, train_target, test_size=0.2, random_state=31)\n",
        "\n",
        "X_train.shape, y_train.shape, X_test.shape, y_test.shape"
      ],
      "execution_count": null,
      "outputs": [
        {
          "output_type": "execute_result",
          "data": {
            "text/plain": [
              "((6090, 30), (6090,), (1523, 30), (1523,))"
            ]
          },
          "metadata": {
            "tags": []
          },
          "execution_count": 430
        }
      ]
    },
    {
      "cell_type": "code",
      "metadata": {
        "id": "jdtbBIG_UfbG",
        "colab_type": "code",
        "colab": {
          "base_uri": "https://localhost:8080/",
          "height": 880
        },
        "outputId": "24895efc-a646-47e9-c03e-e3783bcf5101"
      },
      "source": [
        "# Este modelo no dio buenos resultados, sacó 0.79926 en Kaggle.\n",
        "# Vamos a usar una configuración similar a la del paper en el que nos basamos\n",
        "# para este notebook, en donde tendremos capas de convolución cuyos filtros serán\n",
        "# de tamaño [2, 3, 4, 5]\n",
        "# Entre los tantos intentos realizados, probamos mergear el output de cada capa de convolución\n",
        "# de distintas formas, y no notamos diferencias significatorias así que en este caso vamos a dejar fijo average.\n",
        "# Con o sin Dropout en la capa de Embedding, no notamos diferencia en la performance.\n",
        "\n",
        "n_filters = 200\n",
        "filter_dropout = 0.5\n",
        "hidden_dropout = 0.5\n",
        "\n",
        "inputs = Input(shape=(max_padding))\n",
        "emb = Embedding(input_dim=vocabulary_size, output_dim=embedding_dim, weights=[embedding_matrix], input_length=max_padding, trainable=False)(inputs)\n",
        "\n",
        "conv1 = Conv1D(n_filters, 5, activation='relu')(emb)\n",
        "conv1 = GlobalMaxPooling1D()(conv1)\n",
        "conv1 = Dropout(filter_dropout)(conv1)\n",
        "\n",
        "conv2 = Conv1D(n_filters, 4, activation='relu')(emb)\n",
        "conv2 =  GlobalMaxPooling1D()(conv2)\n",
        "conv2 = Dropout(filter_dropout)(conv2)\n",
        "\n",
        "conv3 = Conv1D(n_filters, 3, activation='relu')(emb)\n",
        "conv3 = GlobalMaxPooling1D()(conv3)\n",
        "conv3 = Dropout(filter_dropout)(conv3)\n",
        "\n",
        "conv4 = Conv1D(n_filters, 2, activation='relu')(emb)\n",
        "conv4 = GlobalMaxPooling1D()(conv4)\n",
        "conv4 = Dropout(filter_dropout)(conv4)\n",
        "\n",
        "merge = average([conv1, conv2, conv3, conv4])\n",
        "out = Dense(64, activation='relu')(merge)\n",
        "out = Dropout(hidden_dropout)(out)\n",
        "out = Dense(1, activation='sigmoid')(out)\n",
        "\n",
        "model = Model(inputs, out)\n",
        "model.compile(loss='binary_crossentropy', optimizer='adam', metrics=['accuracy'])\n",
        "model.summary()"
      ],
      "execution_count": null,
      "outputs": [
        {
          "output_type": "stream",
          "text": [
            "Model: \"functional_229\"\n",
            "__________________________________________________________________________________________________\n",
            "Layer (type)                    Output Shape         Param #     Connected to                     \n",
            "==================================================================================================\n",
            "input_129 (InputLayer)          [(None, 30)]         0                                            \n",
            "__________________________________________________________________________________________________\n",
            "embedding_130 (Embedding)       (None, 30, 200)      3080600     input_129[0][0]                  \n",
            "__________________________________________________________________________________________________\n",
            "conv1d_443 (Conv1D)             (None, 26, 200)      200200      embedding_130[0][0]              \n",
            "__________________________________________________________________________________________________\n",
            "conv1d_444 (Conv1D)             (None, 27, 200)      160200      embedding_130[0][0]              \n",
            "__________________________________________________________________________________________________\n",
            "conv1d_445 (Conv1D)             (None, 28, 200)      120200      embedding_130[0][0]              \n",
            "__________________________________________________________________________________________________\n",
            "conv1d_446 (Conv1D)             (None, 29, 200)      80200       embedding_130[0][0]              \n",
            "__________________________________________________________________________________________________\n",
            "global_max_pooling1d_412 (Globa (None, 200)          0           conv1d_443[0][0]                 \n",
            "__________________________________________________________________________________________________\n",
            "global_max_pooling1d_413 (Globa (None, 200)          0           conv1d_444[0][0]                 \n",
            "__________________________________________________________________________________________________\n",
            "global_max_pooling1d_414 (Globa (None, 200)          0           conv1d_445[0][0]                 \n",
            "__________________________________________________________________________________________________\n",
            "global_max_pooling1d_415 (Globa (None, 200)          0           conv1d_446[0][0]                 \n",
            "__________________________________________________________________________________________________\n",
            "dropout_476 (Dropout)           (None, 200)          0           global_max_pooling1d_412[0][0]   \n",
            "__________________________________________________________________________________________________\n",
            "dropout_477 (Dropout)           (None, 200)          0           global_max_pooling1d_413[0][0]   \n",
            "__________________________________________________________________________________________________\n",
            "dropout_478 (Dropout)           (None, 200)          0           global_max_pooling1d_414[0][0]   \n",
            "__________________________________________________________________________________________________\n",
            "dropout_479 (Dropout)           (None, 200)          0           global_max_pooling1d_415[0][0]   \n",
            "__________________________________________________________________________________________________\n",
            "average_28 (Average)            (None, 200)          0           dropout_476[0][0]                \n",
            "                                                                 dropout_477[0][0]                \n",
            "                                                                 dropout_478[0][0]                \n",
            "                                                                 dropout_479[0][0]                \n",
            "__________________________________________________________________________________________________\n",
            "dense_223 (Dense)               (None, 64)           12864       average_28[0][0]                 \n",
            "__________________________________________________________________________________________________\n",
            "dropout_480 (Dropout)           (None, 64)           0           dense_223[0][0]                  \n",
            "__________________________________________________________________________________________________\n",
            "dense_224 (Dense)               (None, 1)            65          dropout_480[0][0]                \n",
            "==================================================================================================\n",
            "Total params: 3,654,329\n",
            "Trainable params: 573,729\n",
            "Non-trainable params: 3,080,600\n",
            "__________________________________________________________________________________________________\n"
          ],
          "name": "stdout"
        }
      ]
    },
    {
      "cell_type": "code",
      "metadata": {
        "id": "tGmL19BPUuSF",
        "colab_type": "code",
        "colab": {
          "base_uri": "https://localhost:8080/",
          "height": 719
        },
        "outputId": "2e875c17-3554-4786-a870-90e87cc7603b"
      },
      "source": [
        "plot_model(model)"
      ],
      "execution_count": null,
      "outputs": [
        {
          "output_type": "execute_result",
          "data": {
            "image/png": "[encoded data removed]",
            "text/plain": [
              "<IPython.core.display.Image object>"
            ]
          },
          "metadata": {
            "tags": []
          },
          "execution_count": 449
        }
      ]
    },
    {
      "cell_type": "code",
      "metadata": {
        "id": "d2lazhDJVBRc",
        "colab_type": "code",
        "colab": {
          "base_uri": "https://localhost:8080/",
          "height": 403
        },
        "outputId": "6a827e8f-9844-4968-88e2-cff22e1b63e1"
      },
      "source": [
        "epochs = 10\n",
        "model.fit(X_train, y_train, epochs=epochs, validation_data=(X_test, y_test))"
      ],
      "execution_count": null,
      "outputs": [
        {
          "output_type": "stream",
          "text": [
            "Epoch 1/10\n",
            "191/191 [==============================] - 11s 58ms/step - loss: 0.5291 - accuracy: 0.7466 - val_loss: 0.4421 - val_accuracy: 0.7919\n",
            "Epoch 2/10\n",
            "191/191 [==============================] - 11s 58ms/step - loss: 0.4339 - accuracy: 0.8069 - val_loss: 0.4253 - val_accuracy: 0.8168\n",
            "Epoch 3/10\n",
            "191/191 [==============================] - 11s 59ms/step - loss: 0.3640 - accuracy: 0.8414 - val_loss: 0.4424 - val_accuracy: 0.7932\n",
            "Epoch 4/10\n",
            "191/191 [==============================] - 12s 60ms/step - loss: 0.3164 - accuracy: 0.8658 - val_loss: 0.4537 - val_accuracy: 0.7971\n",
            "Epoch 5/10\n",
            "191/191 [==============================] - 11s 59ms/step - loss: 0.2678 - accuracy: 0.8905 - val_loss: 0.4722 - val_accuracy: 0.7971\n",
            "Epoch 6/10\n",
            "191/191 [==============================] - 11s 57ms/step - loss: 0.2089 - accuracy: 0.9236 - val_loss: 0.5138 - val_accuracy: 0.8037\n",
            "Epoch 7/10\n",
            "191/191 [==============================] - 11s 59ms/step - loss: 0.1817 - accuracy: 0.9345 - val_loss: 0.5763 - val_accuracy: 0.8004\n",
            "Epoch 8/10\n",
            "191/191 [==============================] - 11s 57ms/step - loss: 0.1522 - accuracy: 0.9447 - val_loss: 0.5700 - val_accuracy: 0.8148\n",
            "Epoch 9/10\n",
            "191/191 [==============================] - 11s 57ms/step - loss: 0.1416 - accuracy: 0.9488 - val_loss: 0.5637 - val_accuracy: 0.8135\n",
            "Epoch 10/10\n",
            "191/191 [==============================] - 11s 57ms/step - loss: 0.1227 - accuracy: 0.9562 - val_loss: 0.6516 - val_accuracy: 0.7938\n"
          ],
          "name": "stdout"
        },
        {
          "output_type": "execute_result",
          "data": {
            "text/plain": [
              "<tensorflow.python.keras.callbacks.History at 0x7fcdbf6430f0>"
            ]
          },
          "metadata": {
            "tags": []
          },
          "execution_count": 450
        }
      ]
    },
    {
      "cell_type": "code",
      "metadata": {
        "id": "dGYTlF8_VST2",
        "colab_type": "code",
        "colab": {
          "base_uri": "https://localhost:8080/",
          "height": 164
        },
        "outputId": "7e056edc-3fce-4dff-b733-862c7a21d922"
      },
      "source": [
        "predictions = model.predict(X_test)\n",
        "\n",
        "y_preds = [1 if pred > 0.5 else 0 for pred in predictions]\n",
        "metrics(y_preds, y_test)"
      ],
      "execution_count": 454,
      "outputs": [
        {
          "output_type": "stream",
          "text": [
            "Verdaderos Negativos: 668\n",
            "Falsos Negativos: 128\n",
            "Verdaderos Positivos: 541\n",
            "Falsos Positivos: 186\n",
            "\n",
            "precision score: 0.7441540577716643\n",
            "recall score: 0.8086696562032885\n",
            "f1 score: 0.7750716332378222\n"
          ],
          "name": "stdout"
        }
      ]
    },
    {
      "cell_type": "code",
      "metadata": {
        "id": "m1WPvDMJ3RhV",
        "colab_type": "code",
        "colab": {
          "base_uri": "https://localhost:8080/",
          "height": 127
        },
        "outputId": "1dad4e88-7745-4c06-b54e-c1d4657f8597"
      },
      "source": [
        "model.fit(padded_vecs_train, train_target, epochs=epochs, verbose=False)\n",
        "k_preds_prob = model.predict(padded_vecs_test)\n",
        "k_preds = [1 if pred > 0.5 else 0 for pred in k_preds_prob]\n",
        "\n",
        "results = df_test[['id']]\n",
        "results['target'] = k_preds\n",
        "results.head()\n",
        "results.to_csv('conv1d-multiple-filters-glove-twitter-average.csv', index=False)"
      ],
      "execution_count": 455,
      "outputs": [
        {
          "output_type": "stream",
          "text": [
            "/usr/local/lib/python3.6/dist-packages/ipykernel_launcher.py:6: SettingWithCopyWarning: \n",
            "A value is trying to be set on a copy of a slice from a DataFrame.\n",
            "Try using .loc[row_indexer,col_indexer] = value instead\n",
            "\n",
            "See the caveats in the documentation: https://pandas.pydata.org/pandas-docs/stable/user_guide/indexing.html#returning-a-view-versus-a-copy\n",
            "  \n"
          ],
          "name": "stderr"
        }
      ]
    }
  ]
}